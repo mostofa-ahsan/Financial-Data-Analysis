{
 "cells": [
  {
   "cell_type": "code",
   "execution_count": 1,
   "metadata": {},
   "outputs": [],
   "source": [
    "import pandas as pd\n",
    "import numpy as np\n",
    "from sklearn import preprocessing\n",
    "import matplotlib.pyplot as plt\n",
    "plt.rc(\"font\", size = 14)\n",
    "from sklearn.linear_model import LogisticRegression\n",
    "from sklearn.model_selection import train_test_split\n",
    "import seaborn as sns\n",
    "sns.set(style=\"white\")\n",
    "sns.set(style=\"whitegrid\",color_codes=True)"
   ]
  },
  {
   "cell_type": "code",
   "execution_count": 2,
   "metadata": {},
   "outputs": [
    {
     "name": "stdout",
     "output_type": "stream",
     "text": [
      "(41188, 21)\n['age', 'job', 'marital', 'education', 'default', 'housing', 'loan', 'contact', 'month', 'day_of_week', 'duration', 'campaign', 'pdays', 'previous', 'poutcome', 'emp_var_rate', 'cons_price_idx', 'cons_conf_idx', 'euribor3m', 'nr_employed', 'y']\n"
     ]
    }
   ],
   "source": [
    "data = pd.read_csv('banking.csv',header = 0)\n",
    "data = data.dropna()\n",
    "print(data.shape)\n",
    "print(list(data.columns))"
   ]
  },
  {
   "cell_type": "code",
   "execution_count": 3,
   "metadata": {},
   "outputs": [
    {
     "name": "stdout",
     "output_type": "stream",
     "text": [
      "   age          job  marital          education  default housing loan  \\\n0   44  blue-collar  married           basic.4y  unknown     yes   no   \n1   53   technician  married            unknown       no      no   no   \n2   28   management   single  university.degree       no     yes   no   \n3   39     services  married        high.school       no      no   no   \n4   55      retired  married           basic.4y       no     yes   no   \n\n    contact month day_of_week  ...  campaign  pdays  previous     poutcome  \\\n0  cellular   aug         thu  ...         1    999         0  nonexistent   \n1  cellular   nov         fri  ...         1    999         0  nonexistent   \n2  cellular   jun         thu  ...         3      6         2      success   \n3  cellular   apr         fri  ...         2    999         0  nonexistent   \n4  cellular   aug         fri  ...         1      3         1      success   \n\n  emp_var_rate  cons_price_idx  cons_conf_idx  euribor3m  nr_employed  y  \n0          1.4          93.444          -36.1      4.963       5228.1  0  \n1         -0.1          93.200          -42.0      4.021       5195.8  0  \n2         -1.7          94.055          -39.8      0.729       4991.6  1  \n3         -1.8          93.075          -47.1      1.405       5099.1  0  \n4         -2.9          92.201          -31.4      0.869       5076.2  1  \n\n[5 rows x 21 columns]"
     ]
    },
    {
     "name": "stdout",
     "output_type": "stream",
     "text": [
      "\n"
     ]
    }
   ],
   "source": [
    "print(data.head())"
   ]
  },
  {
   "cell_type": "code",
   "execution_count": 4,
   "metadata": {},
   "outputs": [
    {
     "data": {
      "text/plain": [
       "array(['basic.4y', 'unknown', 'university.degree', 'high.school',\n       'basic.9y', 'professional.course', 'basic.6y', 'illiterate'],\n      dtype=object)"
      ]
     },
     "execution_count": 4,
     "metadata": {},
     "output_type": "execute_result"
    }
   ],
   "source": [
    "data['education'].unique()"
   ]
  },
  {
   "cell_type": "code",
   "execution_count": 5,
   "metadata": {},
   "outputs": [],
   "source": [
    "data['education'] = np.where(data['education']=='basic.9y','Basic',data['education'])\n",
    "data['education'] = np.where(data['education']=='basic.6y','Basic',data['education'])\n",
    "data['education'] = np.where(data['education']=='basic.4y','Basic',data['education'])\n"
   ]
  },
  {
   "cell_type": "code",
   "execution_count": 6,
   "metadata": {},
   "outputs": [
    {
     "data": {
      "text/plain": [
       "array(['Basic', 'unknown', 'university.degree', 'high.school',\n       'professional.course', 'illiterate'], dtype=object)"
      ]
     },
     "execution_count": 6,
     "metadata": {},
     "output_type": "execute_result"
    }
   ],
   "source": [
    "data['education'].unique()"
   ]
  },
  {
   "cell_type": "code",
   "execution_count": 7,
   "metadata": {},
   "outputs": [
    {
     "data": {
      "text/plain": [
       "0    36548\n1     4640\nName: y, dtype: int64"
      ]
     },
     "execution_count": 7,
     "metadata": {},
     "output_type": "execute_result"
    }
   ],
   "source": [
    "data['y'].value_counts()"
   ]
  },
  {
   "cell_type": "code",
   "execution_count": 8,
   "metadata": {},
   "outputs": [
    {
     "data": {
      "image/png": "[encoded data removed]",
      "text/plain": [
       "<Figure size 432x288 with 1 Axes>"
      ]
     },
     "metadata": {},
     "output_type": "display_data"
    },
    {
     "data": {
      "text/plain": [
       "<Figure size 432x288 with 0 Axes>"
      ]
     },
     "execution_count": 0,
     "metadata": {},
     "output_type": "execute_result"
    }
   ],
   "source": [
    "sns.countplot(x='y',data=data,palette='hls')\n",
    "plt.show()\n",
    "plt.savefig('Count plot')"
   ]
  },
  {
   "cell_type": "code",
   "execution_count": 9,
   "metadata": {},
   "outputs": [
    {
     "data": {
      "image/png": "[encoded data removed]",
      "text/plain": [
       "<Figure size 432x288 with 1 Axes>"
      ]
     },
     "metadata": {},
     "output_type": "display_data"
    }
   ],
   "source": [
    "sns.countplot(x='y',data=data,palette='hls')\n",
    "plt.show()"
   ]
  },
  {
   "cell_type": "code",
   "execution_count": 10,
   "metadata": {},
   "outputs": [
    {
     "data": {
      "image/png": "[encoded data removed]",
      "text/plain": [
       "<Figure size 432x288 with 1 Axes>"
      ]
     },
     "metadata": {},
     "output_type": "display_data"
    }
   ],
   "source": [
    "sns.countplot(x='y',data=data)\n",
    "plt.show()"
   ]
  },
  {
   "cell_type": "code",
   "execution_count": 11,
   "metadata": {},
   "outputs": [
    {
     "data": {
      "image/png": "[encoded data removed]",
      "text/plain": [
       "<Figure size 432x288 with 1 Axes>"
      ]
     },
     "metadata": {},
     "output_type": "display_data"
    }
   ],
   "source": [
    "sns.countplot(x='education',data=data)\n",
    "plt.show()"
   ]
  },
  {
   "cell_type": "code",
   "execution_count": 12,
   "metadata": {},
   "outputs": [
    {
     "name": "stdout",
     "output_type": "stream",
     "text": [
      "percentage of no sub 88.73458288821988\npercentage of sub 11.265417111780131\n"
     ]
    }
   ],
   "source": [
    "count_no_sub = len(data[data['y']==0])\n",
    "count_sub = len(data[data['y']==1])\n",
    "pct_sub = count_sub/(count_sub+count_no_sub)\n",
    "pct_no_sub = count_no_sub/(count_sub+count_no_sub)\n",
    "print(\"percentage of no sub\",pct_no_sub*100)\n",
    "print(\"percentage of sub\",pct_sub*100)\n"
   ]
  },
  {
   "cell_type": "code",
   "execution_count": 13,
   "metadata": {},
   "outputs": [
    {
     "name": "stdout",
     "output_type": "stream",
     "text": [
      "         age    duration  campaign       pdays  previous  emp_var_rate  \\\ny                                                                        \n0  39.911185  220.844807  2.633085  984.113878  0.132374      0.248875   \n1  40.913147  553.191164  2.051724  792.035560  0.492672     -1.233448   \n\n   cons_price_idx  cons_conf_idx  euribor3m  nr_employed  \ny                                                         \n0       93.603757     -40.593097   3.811491  5176.166600  \n1       93.354386     -39.789784   2.123135  5095.115991  \n"
     ]
    }
   ],
   "source": [
    "print(data.groupby('y').mean())"
   ]
  },
  {
   "cell_type": "code",
   "execution_count": 14,
   "metadata": {},
   "outputs": [
    {
     "data": {
      "text/html": [
       "<div>\n",
       "<style scoped>\n",
       "    .dataframe tbody tr th:only-of-type {\n",
       "        vertical-align: middle;\n",
       "    }\n",
       "\n",
       "    .dataframe tbody tr th {\n",
       "        vertical-align: top;\n",
       "    }\n",
       "\n",
       "    .dataframe thead th {\n",
       "        text-align: right;\n",
       "    }\n",
       "</style>\n",
       "<table border=\"1\" class=\"dataframe\">\n",
       "  <thead>\n",
       "    <tr style=\"text-align: right;\">\n",
       "      <th></th>\n",
       "      <th>age</th>\n",
       "      <th>duration</th>\n",
       "      <th>campaign</th>\n",
       "      <th>pdays</th>\n",
       "      <th>previous</th>\n",
       "      <th>emp_var_rate</th>\n",
       "      <th>cons_price_idx</th>\n",
       "      <th>cons_conf_idx</th>\n",
       "      <th>euribor3m</th>\n",
       "      <th>nr_employed</th>\n",
       "    </tr>\n",
       "    <tr>\n",
       "      <th>y</th>\n",
       "      <th></th>\n",
       "      <th></th>\n",
       "      <th></th>\n",
       "      <th></th>\n",
       "      <th></th>\n",
       "      <th></th>\n",
       "      <th></th>\n",
       "      <th></th>\n",
       "      <th></th>\n",
       "      <th></th>\n",
       "    </tr>\n",
       "  </thead>\n",
       "  <tbody>\n",
       "    <tr>\n",
       "      <th>0</th>\n",
       "      <td>39.911185</td>\n",
       "      <td>220.844807</td>\n",
       "      <td>2.633085</td>\n",
       "      <td>984.113878</td>\n",
       "      <td>0.132374</td>\n",
       "      <td>0.248875</td>\n",
       "      <td>93.603757</td>\n",
       "      <td>-40.593097</td>\n",
       "      <td>3.811491</td>\n",
       "      <td>5176.166600</td>\n",
       "    </tr>\n",
       "    <tr>\n",
       "      <th>1</th>\n",
       "      <td>40.913147</td>\n",
       "      <td>553.191164</td>\n",
       "      <td>2.051724</td>\n",
       "      <td>792.035560</td>\n",
       "      <td>0.492672</td>\n",
       "      <td>-1.233448</td>\n",
       "      <td>93.354386</td>\n",
       "      <td>-39.789784</td>\n",
       "      <td>2.123135</td>\n",
       "      <td>5095.115991</td>\n",
       "    </tr>\n",
       "  </tbody>\n",
       "</table>\n",
       "</div>"
      ],
      "text/plain": [
       "<div>\n",
       "<style scoped>\n",
       "    .dataframe tbody tr th:only-of-type {\n",
       "        vertical-align: middle;\n",
       "    }\n",
       "\n",
       "    .dataframe tbody tr th {\n",
       "        vertical-align: top;\n",
       "    }\n",
       "\n",
       "    .dataframe thead th {\n",
       "        text-align: right;\n",
       "    }\n",
       "</style>\n",
       "<table border=\"1\" class=\"dataframe\">\n",
       "  <thead>\n",
       "    <tr style=\"text-align: right;\">\n",
       "      <th></th>\n",
       "      <th>age</th>\n",
       "      <th>duration</th>\n",
       "      <th>campaign</th>\n",
       "      <th>pdays</th>\n",
       "      <th>previous</th>\n",
       "      <th>emp_var_rate</th>\n",
       "      <th>cons_price_idx</th>\n",
       "      <th>cons_conf_idx</th>\n",
       "      <th>euribor3m</th>\n",
       "      <th>nr_employed</th>\n",
       "    </tr>\n",
       "    <tr>\n",
       "      <th>y</th>\n",
       "      <th></th>\n",
       "      <th></th>\n",
       "      <th></th>\n",
       "      <th></th>\n",
       "      <th></th>\n",
       "      <th></th>\n",
       "      <th></th>\n",
       "      <th></th>\n",
       "      <th></th>\n",
       "      <th></th>\n",
       "    </tr>\n",
       "  </thead>\n",
       "  <tbody>\n",
       "    <tr>\n",
       "      <th>0</th>\n",
       "      <td>39.911185</td>\n",
       "      <td>220.844807</td>\n",
       "      <td>2.633085</td>\n",
       "      <td>984.113878</td>\n",
       "      <td>0.132374</td>\n",
       "      <td>0.248875</td>\n",
       "      <td>93.603757</td>\n",
       "      <td>-40.593097</td>\n",
       "      <td>3.811491</td>\n",
       "      <td>5176.166600</td>\n",
       "    </tr>\n",
       "    <tr>\n",
       "      <th>1</th>\n",
       "      <td>40.913147</td>\n",
       "      <td>553.191164</td>\n",
       "      <td>2.051724</td>\n",
       "      <td>792.035560</td>\n",
       "      <td>0.492672</td>\n",
       "      <td>-1.233448</td>\n",
       "      <td>93.354386</td>\n",
       "      <td>-39.789784</td>\n",
       "      <td>2.123135</td>\n",
       "      <td>5095.115991</td>\n",
       "    </tr>\n",
       "  </tbody>\n",
       "</table>\n",
       "</div>"
      ]
     },
     "execution_count": 14,
     "metadata": {},
     "output_type": "execute_result"
    }
   ],
   "source": [
    "data.groupby('y').mean()"
   ]
  },
  {
   "cell_type": "code",
   "execution_count": 15,
   "metadata": {},
   "outputs": [
    {
     "data": {
      "text/plain": [
       "<matplotlib.axes._subplots.AxesSubplot at 0x370d798198>"
      ]
     },
     "execution_count": 15,
     "metadata": {},
     "output_type": "execute_result"
    },
    {
     "data": {
      "image/png": "[encoded data removed]",
      "text/plain": [
       "<Figure size 432x288 with 1 Axes>"
      ]
     },
     "metadata": {},
     "output_type": "display_data"
    }
   ],
   "source": [
    "pd.crosstab(data.job,data.y).plot(kind= 'bar')\n"
   ]
  },
  {
   "cell_type": "code",
   "execution_count": 16,
   "metadata": {},
   "outputs": [
    {
     "data": {
      "image/png": "[encoded data removed]",
      "text/plain": [
       "<Figure size 432x288 with 1 Axes>"
      ]
     },
     "metadata": {},
     "output_type": "display_data"
    }
   ],
   "source": [
    "pd.crosstab(data.job,data.y).plot(kind='bar')\n",
    "plt.title('Purchase Frequency for Job Title')\n",
    "plt.xlabel('Job')\n",
    "plt.ylabel('Frequency of Purchase')\n",
    "plt.savefig('purchase_fre_job')"
   ]
  },
  {
   "cell_type": "code",
   "execution_count": 17,
   "metadata": {},
   "outputs": [],
   "source": [
    ""
   ]
  },
  {
   "cell_type": "code",
   "execution_count": 17,
   "metadata": {},
   "outputs": [
    {
     "data": {
      "text/plain": [
       "Text(0, 0.5, 'Proportion of Customers')"
      ]
     },
     "execution_count": 17,
     "metadata": {},
     "output_type": "execute_result"
    },
    {
     "data": {
      "image/png": "[encoded data removed]",
      "text/plain": [
       "<Figure size 432x288 with 1 Axes>"
      ]
     },
     "metadata": {},
     "output_type": "display_data"
    }
   ],
   "source": [
    "table=pd.crosstab(data.marital,data.y)\n",
    "table.div(table.sum(1).astype(float), axis=0).plot(kind='bar', stacked=True)\n",
    "plt.title('Stacked Bar Chart of Marital Status vs Purchase')\n",
    "plt.xlabel('Marital Status')\n",
    "plt.ylabel('Proportion of Customers')\n"
   ]
  },
  {
   "cell_type": "code",
   "execution_count": 18,
   "metadata": {},
   "outputs": [
    {
     "data": {
      "image/png": "[encoded data removed]",
      "text/plain": [
       "<Figure size 432x288 with 1 Axes>"
      ]
     },
     "metadata": {},
     "output_type": "display_data"
    }
   ],
   "source": [
    "table=pd.crosstab(data.education,data.y)\n",
    "table.div(table.sum(1).astype(float), axis = 0).plot(kind='bar', stacked=True)\n",
    "plt.title('Stacked Bar Chart of Education vs Purchase')\n",
    "plt.xlabel('Education')\n",
    "plt.ylabel('Proportion of Customers')\n",
    "plt.savefig('edu_vs_pur_stack')"
   ]
  },
  {
   "cell_type": "code",
   "execution_count": 19,
   "metadata": {},
   "outputs": [
    {
     "data": {
      "text/plain": [
       "Text(0, 0.5, 'Proportion of Customers')"
      ]
     },
     "execution_count": 19,
     "metadata": {},
     "output_type": "execute_result"
    },
    {
     "data": {
      "image/png": "[encoded data removed]",
      "text/plain": [
       "<Figure size 432x288 with 1 Axes>"
      ]
     },
     "metadata": {},
     "output_type": "display_data"
    }
   ],
   "source": [
    "table=pd.crosstab(data.day_of_week,data.y)\n",
    "table.div(table.sum(1).astype(float), axis = 0).plot(kind='bar', stacked=True)\n",
    "plt.title('Stacked Bar Chart of Education vs Purchase')\n",
    "plt.xlabel('Education')\n",
    "plt.ylabel('Proportion of Customers')"
   ]
  },
  {
   "cell_type": "code",
   "execution_count": 20,
   "metadata": {},
   "outputs": [
    {
     "data": {
      "image/png": "[encoded data removed]",
      "text/plain": [
       "<Figure size 432x288 with 1 Axes>"
      ]
     },
     "metadata": {},
     "output_type": "display_data"
    }
   ],
   "source": [
    "\n",
    "pd.crosstab(data.day_of_week,data.y).plot(kind='bar')\n",
    "plt.title('Purchase Frequency for Day of Week')\n",
    "plt.xlabel('Day of Week')\n",
    "plt.ylabel('Frequency of Purchase')\n",
    "plt.savefig('pur_dayofweek_bar')"
   ]
  },
  {
   "cell_type": "code",
   "execution_count": 21,
   "metadata": {},
   "outputs": [
    {
     "data": {
      "image/png": "[encoded data removed]",
      "text/plain": [
       "<Figure size 432x288 with 1 Axes>"
      ]
     },
     "metadata": {},
     "output_type": "display_data"
    }
   ],
   "source": [
    "pd.crosstab(data.month,data.y).plot(kind='bar')\n",
    "plt.title('Purchase Frequency for Month')\n",
    "plt.xlabel('Month')\n",
    "plt.ylabel('Frequency of Purchase')\n",
    "plt.savefig('pur_fre_month_bar')"
   ]
  },
  {
   "cell_type": "code",
   "execution_count": 22,
   "metadata": {},
   "outputs": [
    {
     "data": {
      "image/png": "[encoded data removed]",
      "text/plain": [
       "<Figure size 432x288 with 1 Axes>"
      ]
     },
     "metadata": {},
     "output_type": "display_data"
    }
   ],
   "source": [
    "data.age.hist()\n",
    "plt.title('Histogram of Age')\n",
    "plt.xlabel('Age')\n",
    "plt.ylabel('Frequency')\n",
    "plt.savefig('hist_age')"
   ]
  },
  {
   "cell_type": "code",
   "execution_count": 23,
   "metadata": {},
   "outputs": [
    {
     "data": {
      "image/png": "[encoded data removed]",
      "text/plain": [
       "<Figure size 432x288 with 1 Axes>"
      ]
     },
     "metadata": {},
     "output_type": "display_data"
    }
   ],
   "source": [
    "pd.crosstab(data.poutcome,data.y).plot(kind='bar')\n",
    "plt.title('Purchase Frequency for Poutcome')\n",
    "plt.xlabel('Poutcome')\n",
    "plt.ylabel('Frequency of Purchase')\n",
    "plt.savefig('pur_fre_pout_bar')\n"
   ]
  },
  {
   "cell_type": "code",
   "execution_count": 24,
   "metadata": {},
   "outputs": [],
   "source": [
    "cat_vars=['job','marital','education','default','housing','loan','contact','month','day_of_week','poutcome']\n",
    "for var in cat_vars:\n",
    "    cat_list='var'+'_'+var\n",
    "    cat_list = pd.get_dummies(data[var], prefix=var)\n",
    "    data1=data.join(cat_list)\n",
    "    data=data1\n"
   ]
  },
  {
   "cell_type": "code",
   "execution_count": 29,
   "metadata": {},
   "outputs": [],
   "source": [
    "cat_vars=['job','marital','education','default','housing','loan','contact','month','day_of_week','poutcome']\n",
    "data_vars=data.columns.values.tolist()\n",
    "to_keep=[i for i in data_vars if i not in cat_vars]\n",
    "\n"
   ]
  },
  {
   "cell_type": "code",
   "execution_count": 31,
   "metadata": {},
   "outputs": [
    {
     "data": {
      "text/plain": [
       "array(['age', 'duration', 'campaign', 'pdays', 'previous', 'emp_var_rate',\n       'cons_price_idx', 'cons_conf_idx', 'euribor3m', 'nr_employed', 'y',\n       'job_admin.', 'job_blue-collar', 'job_entrepreneur',\n       'job_housemaid', 'job_management', 'job_retired',\n       'job_self-employed', 'job_services', 'job_student',\n       'job_technician', 'job_unemployed', 'job_unknown',\n       'marital_divorced', 'marital_married', 'marital_single',\n       'marital_unknown', 'education_Basic', 'education_high.school',\n       'education_illiterate', 'education_professional.course',\n       'education_university.degree', 'education_unknown', 'default_no',\n       'default_unknown', 'default_yes', 'housing_no', 'housing_unknown',\n       'housing_yes', 'loan_no', 'loan_unknown', 'loan_yes',\n       'contact_cellular', 'contact_telephone', 'month_apr', 'month_aug',\n       'month_dec', 'month_jul', 'month_jun', 'month_mar', 'month_may',\n       'month_nov', 'month_oct', 'month_sep', 'day_of_week_fri',\n       'day_of_week_mon', 'day_of_week_thu', 'day_of_week_tue',\n       'day_of_week_wed', 'poutcome_failure', 'poutcome_nonexistent',\n       'poutcome_success'], dtype=object)"
      ]
     },
     "execution_count": 31,
     "metadata": {},
     "output_type": "execute_result"
    }
   ],
   "source": [
    "data_final=data[to_keep]\n",
    "data_final.columns.values"
   ]
  },
  {
   "cell_type": "code",
   "execution_count": 45,
   "metadata": {},
   "outputs": [
    {
     "name": "stdout",
     "output_type": "stream",
     "text": [
      "       age  duration  campaign  pdays  previous  emp_var_rate  cons_price_idx  \\\n0       44       210         1    999         0           1.4          93.444   \n1       53       138         1    999         0          -0.1          93.200   \n2       28       339         3      6         2          -1.7          94.055   \n3       39       185         2    999         0          -1.8          93.075   \n4       55       137         1      3         1          -2.9          92.201   \n5       30        68         8    999         0           1.4          93.918   \n6       37       204         1    999         0          -1.8          92.893   \n7       39       191         1    999         0          -1.8          92.893   \n8       36       174         1      3         1          -2.9          92.963   \n9       27       191         2    999         1          -1.8          93.075   \n10      34        62         2    999         0           1.1          93.994   \n11      41       789         1    999         0           1.4          93.444   \n12      55       372         3    999         0           1.4          93.444   \n13      33        75         5    999         0          -1.8          92.893   \n14      26      1021         1    999         0           1.4          94.465   \n15      52       117         2    999         0           1.4          93.918   \n16      35      1034         2    999         0          -1.8          93.075   \n17      27       540         1    999         0          -0.1          93.798   \n18      28       140         1    999         0           1.1          93.994   \n19      26       104         4    999         0           1.4          93.918   \n20      41       246         1    999         1          -1.8          93.075   \n21      35      1114         1    999         0           1.4          94.465   \n22      40       340         1    999         0           1.4          93.918   \n23      32        35         1    999         0           1.4          93.918   \n24      41       241         3    999         0           1.4          93.918   \n25      34       168         2    999         0          -1.8          92.893   \n26      49        81         1    999         0          -3.4          92.431   \n27      37       226         1      2         1          -1.8          93.075   \n28      35       746         2    999         0          -1.8          92.893   \n29      38        41         5    999         0           1.4          93.918   \n...    ...       ...       ...    ...       ...           ...             ...   \n41158   30       127         1    999         0           1.4          94.465   \n41159   47       129         4    999         0           1.4          93.918   \n41160   57       114         2    999         0          -0.1          93.200   \n41161   43       339         1    999         0           1.4          93.918   \n41162   43       902         2    999         0          -1.8          93.075   \n41163   22       396         1    999         0           1.1          93.994   \n41164   33       436         2    999         0           1.4          93.444   \n41165   56       476         2    999         0           1.4          93.444   \n41166   31       208         1    999         0          -1.8          92.893   \n41167   30       251         3    999         0           1.4          93.918   \n41168   29       254         1    999         0           1.4          93.918   \n41169   46       530         1    999         0          -0.1          93.200   \n41170   32       195         3    999         0           1.4          93.444   \n41171   42       956         2    999         0           1.4          94.465   \n41172   27      1309         4    999         0           1.4          93.918   \n41173   39       291         1    999         0           1.1          93.994   \n41174   49       140         2    999         0          -1.8          92.893   \n41175   46        58         3    999         0           1.4          93.444   \n41176   30        74         2    999         0          -1.8          92.893   \n41177   52        73         1    999         0           1.4          94.465   \n41178   35       243         1    999         0           1.4          93.444   \n41179   29       214         1    999         0          -1.8          92.893   \n41180   44        34         1    999         0           1.4          93.444   \n41181   39       123         2    999         0          -0.1          93.200   \n41182   24       118         4    999         1          -1.8          92.893   \n41183   59       222         1    999         0           1.4          94.465   \n41184   31       196         2    999         0           1.1          93.994   \n41185   42        62         3    999         0           1.1          93.994   \n41186   48       200         2    999         0          -3.4          92.431   \n41187   25       112         4    999         0           1.1          93.994   \n\n       cons_conf_idx  euribor3m  nr_employed  ...  month_oct  month_sep  \\\n0              -36.1      4.963       5228.1  ...          0          0   \n1              -42.0      4.021       5195.8  ...          0          0   \n2              -39.8      0.729       4991.6  ...          0          0   \n3              -47.1      1.405       5099.1  ...          0          0   \n4              -31.4      0.869       5076.2  ...          0          0   \n5              -42.7      4.961       5228.1  ...          0          0   \n6              -46.2      1.327       5099.1  ...          0          0   \n7              -46.2      1.313       5099.1  ...          0          0   \n8              -40.8      1.266       5076.2  ...          0          0   \n9              -47.1      1.410       5099.1  ...          0          0   \n10             -36.4      4.864       5191.0  ...          0          0   \n11             -36.1      4.964       5228.1  ...          0          0   \n12             -36.1      4.965       5228.1  ...          0          0   \n13             -46.2      1.291       5099.1  ...          0          0   \n14             -41.8      4.960       5228.1  ...          0          0   \n15             -42.7      4.962       5228.1  ...          0          0   \n16             -47.1      1.365       5099.1  ...          0          0   \n17             -40.4      4.860       5195.8  ...          1          0   \n18             -36.4      4.860       5191.0  ...          0          0   \n19             -42.7      4.960       5228.1  ...          0          0   \n20             -47.1      1.405       5099.1  ...          0          0   \n21             -41.8      4.967       5228.1  ...          0          0   \n22             -42.7      4.963       5228.1  ...          0          0   \n23             -42.7      4.968       5228.1  ...          0          0   \n24             -42.7      4.962       5228.1  ...          0          0   \n25             -46.2      1.344       5099.1  ...          0          0   \n26             -26.9      0.754       5017.5  ...          1          0   \n27             -47.1      1.365       5099.1  ...          0          0   \n28             -46.2      1.313       5099.1  ...          0          0   \n29             -42.7      4.961       5228.1  ...          0          0   \n...              ...        ...          ...  ...        ...        ...   \n41158          -41.8      4.967       5228.1  ...          0          0   \n41159          -42.7      4.960       5228.1  ...          0          0   \n41160          -42.0      4.076       5195.8  ...          0          0   \n41161          -42.7      4.960       5228.1  ...          0          0   \n41162          -47.1      1.445       5099.1  ...          0          0   \n41163          -36.4      4.856       5191.0  ...          0          0   \n41164          -36.1      4.963       5228.1  ...          0          0   \n41165          -36.1      4.965       5228.1  ...          0          0   \n41166          -46.2      1.334       5099.1  ...          0          0   \n41167          -42.7      4.963       5228.1  ...          0          0   \n41168          -42.7      4.961       5228.1  ...          0          0   \n41169          -42.0      4.153       5195.8  ...          0          0   \n41170          -36.1      4.962       5228.1  ...          0          0   \n41171          -41.8      4.961       5228.1  ...          0          0   \n41172          -42.7      4.963       5228.1  ...          0          0   \n41173          -36.4      4.859       5191.0  ...          0          0   \n41174          -46.2      1.281       5099.1  ...          0          0   \n41175          -36.1      4.966       5228.1  ...          0          0   \n41176          -46.2      1.250       5099.1  ...          0          0   \n41177          -41.8      4.967       5228.1  ...          0          0   \n41178          -36.1      4.966       5228.1  ...          0          0   \n41179          -46.2      1.299       5099.1  ...          0          0   \n41180          -36.1      4.966       5228.1  ...          0          0   \n41181          -42.0      4.153       5195.8  ...          0          0   \n41182          -46.2      1.266       5099.1  ...          0          0   \n41183          -41.8      4.866       5228.1  ...          0          0   \n41184          -36.4      4.860       5191.0  ...          0          0   \n41185          -36.4      4.857       5191.0  ...          0          0   \n41186          -26.9      0.742       5017.5  ...          1          0   \n41187          -36.4      4.859       5191.0  ...          0          0   \n\n       day_of_week_fri  day_of_week_mon  day_of_week_thu  day_of_week_tue  \\\n0                    0                0                1                0   \n1                    1                0                0                0   \n2                    0                0                1                0   \n3                    1                0                0                0   \n4                    1                0                0                0   \n5                    0                0                0                1   \n6                    0                0                1                0   \n7                    1                0                0                0   \n8                    0                1                0                0   \n9                    0                0                1                0   \n10                   1                0                0                0   \n11                   0                0                1                0   \n12                   0                1                0                0   \n13                   0                0                0                1   \n14                   0                1                0                0   \n15                   0                0                1                0   \n16                   0                0                1                0   \n17                   0                0                0                1   \n18                   0                0                1                0   \n19                   0                1                0                0   \n20                   1                0                0                0   \n21                   1                0                0                0   \n22                   0                0                0                0   \n23                   0                0                1                0   \n24                   0                0                1                0   \n25                   0                0                0                1   \n26                   0                0                1                0   \n27                   0                0                1                0   \n28                   1                0                0                0   \n29                   0                0                0                1   \n...                ...              ...              ...              ...   \n41158                1                0                0                0   \n41159                0                1                0                0   \n41160                0                0                1                0   \n41161                0                1                0                0   \n41162                0                0                0                0   \n41163                0                0                0                1   \n41164                1                0                0                0   \n41165                0                1                0                0   \n41166                0                0                0                0   \n41167                0                0                0                0   \n41168                0                0                0                1   \n41169                0                0                0                1   \n41170                0                0                1                0   \n41171                0                0                0                1   \n41172                0                0                0                0   \n41173                1                0                0                0   \n41174                0                0                0                0   \n41175                0                0                0                1   \n41176                1                0                0                0   \n41177                1                0                0                0   \n41178                1                0                0                0   \n41179                0                1                0                0   \n41180                1                0                0                0   \n41181                0                0                0                1   \n41182                0                0                1                0   \n41183                0                0                1                0   \n41184                0                0                1                0   \n41185                0                0                0                0   \n41186                0                0                0                1   \n41187                1                0                0                0   \n\n       day_of_week_wed  poutcome_failure  poutcome_nonexistent  \\\n0                    0                 0                     1   \n1                    0                 0                     1   \n2                    0                 0                     0   \n3                    0                 0                     1   \n4                    0                 0                     0   \n5                    0                 0                     1   \n6                    0                 0                     1   \n7                    0                 0                     1   \n8                    0                 0                     0   \n9                    0                 1                     0   \n10                   0                 0                     1   \n11                   0                 0                     1   \n12                   0                 0                     1   \n13                   0                 0                     1   \n14                   0                 0                     1   \n15                   0                 0                     1   \n16                   0                 0                     1   \n17                   0                 0                     1   \n18                   0                 0                     1   \n19                   0                 0                     1   \n20                   0                 1                     0   \n21                   0                 0                     1   \n22                   1                 0                     1   \n23                   0                 0                     1   \n24                   0                 0                     1   \n25                   0                 0                     1   \n26                   0                 0                     1   \n27                   0                 0                     0   \n28                   0                 0                     1   \n29                   0                 0                     1   \n...                ...               ...                   ...   \n41158                0                 0                     1   \n41159                0                 0                     1   \n41160                0                 0                     1   \n41161                0                 0                     1   \n41162                1                 0                     1   \n41163                0                 0                     1   \n41164                0                 0                     1   \n41165                0                 0                     1   \n41166                1                 0                     1   \n41167                1                 0                     1   \n41168                0                 0                     1   \n41169                0                 0                     1   \n41170                0                 0                     1   \n41171                0                 0                     1   \n41172                1                 0                     1   \n41173                0                 0                     1   \n41174                1                 0                     1   \n41175                0                 0                     1   \n41176                0                 0                     1   \n41177                0                 0                     1   \n41178                0                 0                     1   \n41179                0                 0                     1   \n41180                0                 0                     1   \n41181                0                 0                     1   \n41182                0                 1                     0   \n41183                0                 0                     1   \n41184                0                 0                     1   \n41185                1                 0                     1   \n41186                0                 0                     1   \n41187                0                 0                     1   \n\n       poutcome_success  \n0                     0  \n1                     0  \n2                     1  \n3                     0  \n4                     1  \n5                     0  \n6                     0  \n7                     0  \n8                     1  \n9                     0  \n10                    0  \n11                    0  \n12                    0  \n13                    0  \n14                    0  \n15                    0  \n16                    0  \n17                    0  \n18                    0  \n19                    0  \n20                    0  \n21                    0  \n22                    0  \n23                    0  \n24                    0  \n25                    0  \n26                    0  \n27                    1  \n28                    0  \n29                    0  \n...                 ...  \n41158                 0  \n41159                 0  \n41160                 0  \n41161                 0  \n41162                 0  \n41163                 0  \n41164                 0  \n41165                 0  \n41166                 0  \n41167                 0  \n41168                 0  \n41169                 0  \n41170                 0  \n41171                 0  \n41172                 0  \n41173                 0  \n41174                 0  \n41175                 0  \n41176                 0  \n41177                 0  \n41178                 0  \n41179                 0  \n41180                 0  \n41181                 0  \n41182                 0  \n41183                 0  \n41184                 0  \n41185                 0  \n41186                 0  \n41187                 0  \n\n[41188 rows x 62 columns]\n"
     ]
    }
   ],
   "source": [
    "print(data_final)\n"
   ]
  },
  {
   "cell_type": "code",
   "execution_count": 47,
   "metadata": {},
   "outputs": [
    {
     "name": "stderr",
     "output_type": "stream",
     "text": [
      "C:\\Users\\Lenovo Pc\\PycharmProjects\\Logistic_Regression_Banking\\venv\\lib\\site-packages\\sklearn\\utils\\validation.py:761: DataConversionWarning: A column-vector y was passed when a 1d array was expected. Please change the shape of y to (n_samples, ), for example using ravel().\n  y = column_or_1d(y, warn=True)\n"
     ]
    },
    {
     "name": "stdout",
     "output_type": "stream",
     "text": [
      "length of oversampled data is  51134\nNumber of no subscription in oversampled data 25567\nNumber of subscription 25567\nProportion of no subscription data in oversampled data is  0.5\nProportion of subscription data in oversampled data is  0.5\n"
     ]
    }
   ],
   "source": [
    "X = data_final.loc[:, data_final.columns != 'y']\n",
    "y = data_final.loc[:, data_final.columns == 'y']\n",
    "from imblearn.over_sampling import SMOTE\n",
    "os = SMOTE(random_state=0)\n",
    "X_train, X_test, y_train, y_test = train_test_split(X, y, test_size=0.3, random_state=0)\n",
    "columns = X_train.columns\n",
    "os_data_X,os_data_y=os.fit_sample(X_train, y_train)\n",
    "os_data_X = pd.DataFrame(data=os_data_X,columns=columns )\n",
    "os_data_y= pd.DataFrame(data=os_data_y,columns=['y'])\n",
    "# we can Check the numbers of our data\n",
    "print(\"length of oversampled data is \",len(os_data_X))\n",
    "print(\"Number of no subscription in oversampled data\",len(os_data_y[os_data_y['y']==0]))\n",
    "print(\"Number of subscription\",len(os_data_y[os_data_y['y']==1]))\n",
    "print(\"Proportion of no subscription data in oversampled data is \",len(os_data_y[os_data_y['y']==0])/len(os_data_X))\n",
    "print(\"Proportion of subscription data in oversampled data is \",len(os_data_y[os_data_y['y']==1])/len(os_data_X))\n"
   ]
  },
  {
   "cell_type": "code",
   "execution_count": 48,
   "metadata": {},
   "outputs": [
    {
     "name": "stderr",
     "output_type": "stream",
     "text": [
      "C:\\Users\\Lenovo Pc\\PycharmProjects\\Logistic_Regression_Banking\\venv\\lib\\site-packages\\sklearn\\linear_model\\logistic.py:433: FutureWarning: Default solver will be changed to 'lbfgs' in 0.22. Specify a solver to silence this warning.\n  FutureWarning)\n"
     ]
    },
    {
     "name": "stderr",
     "output_type": "stream",
     "text": [
      "C:\\Users\\Lenovo Pc\\PycharmProjects\\Logistic_Regression_Banking\\venv\\lib\\site-packages\\sklearn\\linear_model\\logistic.py:433: FutureWarning: Default solver will be changed to 'lbfgs' in 0.22. Specify a solver to silence this warning.\n  FutureWarning)\n"
     ]
    },
    {
     "name": "stderr",
     "output_type": "stream",
     "text": [
      "C:\\Users\\Lenovo Pc\\PycharmProjects\\Logistic_Regression_Banking\\venv\\lib\\site-packages\\sklearn\\linear_model\\logistic.py:433: FutureWarning: Default solver will be changed to 'lbfgs' in 0.22. Specify a solver to silence this warning.\n  FutureWarning)\n"
     ]
    },
    {
     "name": "stderr",
     "output_type": "stream",
     "text": [
      "C:\\Users\\Lenovo Pc\\PycharmProjects\\Logistic_Regression_Banking\\venv\\lib\\site-packages\\sklearn\\linear_model\\logistic.py:433: FutureWarning: Default solver will be changed to 'lbfgs' in 0.22. Specify a solver to silence this warning.\n  FutureWarning)\n"
     ]
    },
    {
     "name": "stderr",
     "output_type": "stream",
     "text": [
      "C:\\Users\\Lenovo Pc\\PycharmProjects\\Logistic_Regression_Banking\\venv\\lib\\site-packages\\sklearn\\linear_model\\logistic.py:433: FutureWarning: Default solver will be changed to 'lbfgs' in 0.22. Specify a solver to silence this warning.\n  FutureWarning)\n"
     ]
    },
    {
     "name": "stderr",
     "output_type": "stream",
     "text": [
      "C:\\Users\\Lenovo Pc\\PycharmProjects\\Logistic_Regression_Banking\\venv\\lib\\site-packages\\sklearn\\linear_model\\logistic.py:433: FutureWarning: Default solver will be changed to 'lbfgs' in 0.22. Specify a solver to silence this warning.\n  FutureWarning)\n"
     ]
    },
    {
     "name": "stderr",
     "output_type": "stream",
     "text": [
      "C:\\Users\\Lenovo Pc\\PycharmProjects\\Logistic_Regression_Banking\\venv\\lib\\site-packages\\sklearn\\linear_model\\logistic.py:433: FutureWarning: Default solver will be changed to 'lbfgs' in 0.22. Specify a solver to silence this warning.\n  FutureWarning)\n"
     ]
    },
    {
     "name": "stderr",
     "output_type": "stream",
     "text": [
      "C:\\Users\\Lenovo Pc\\PycharmProjects\\Logistic_Regression_Banking\\venv\\lib\\site-packages\\sklearn\\linear_model\\logistic.py:433: FutureWarning: Default solver will be changed to 'lbfgs' in 0.22. Specify a solver to silence this warning.\n  FutureWarning)\n"
     ]
    },
    {
     "name": "stderr",
     "output_type": "stream",
     "text": [
      "C:\\Users\\Lenovo Pc\\PycharmProjects\\Logistic_Regression_Banking\\venv\\lib\\site-packages\\sklearn\\linear_model\\logistic.py:433: FutureWarning: Default solver will be changed to 'lbfgs' in 0.22. Specify a solver to silence this warning.\n  FutureWarning)\n"
     ]
    },
    {
     "name": "stderr",
     "output_type": "stream",
     "text": [
      "C:\\Users\\Lenovo Pc\\PycharmProjects\\Logistic_Regression_Banking\\venv\\lib\\site-packages\\sklearn\\linear_model\\logistic.py:433: FutureWarning: Default solver will be changed to 'lbfgs' in 0.22. Specify a solver to silence this warning.\n  FutureWarning)\n"
     ]
    },
    {
     "name": "stderr",
     "output_type": "stream",
     "text": [
      "C:\\Users\\Lenovo Pc\\PycharmProjects\\Logistic_Regression_Banking\\venv\\lib\\site-packages\\sklearn\\linear_model\\logistic.py:433: FutureWarning: Default solver will be changed to 'lbfgs' in 0.22. Specify a solver to silence this warning.\n  FutureWarning)\n"
     ]
    },
    {
     "name": "stderr",
     "output_type": "stream",
     "text": [
      "C:\\Users\\Lenovo Pc\\PycharmProjects\\Logistic_Regression_Banking\\venv\\lib\\site-packages\\sklearn\\linear_model\\logistic.py:433: FutureWarning: Default solver will be changed to 'lbfgs' in 0.22. Specify a solver to silence this warning.\n  FutureWarning)\n"
     ]
    },
    {
     "name": "stderr",
     "output_type": "stream",
     "text": [
      "C:\\Users\\Lenovo Pc\\PycharmProjects\\Logistic_Regression_Banking\\venv\\lib\\site-packages\\sklearn\\linear_model\\logistic.py:433: FutureWarning: Default solver will be changed to 'lbfgs' in 0.22. Specify a solver to silence this warning.\n  FutureWarning)\n"
     ]
    },
    {
     "name": "stderr",
     "output_type": "stream",
     "text": [
      "C:\\Users\\Lenovo Pc\\PycharmProjects\\Logistic_Regression_Banking\\venv\\lib\\site-packages\\sklearn\\linear_model\\logistic.py:433: FutureWarning: Default solver will be changed to 'lbfgs' in 0.22. Specify a solver to silence this warning.\n  FutureWarning)\n"
     ]
    },
    {
     "name": "stderr",
     "output_type": "stream",
     "text": [
      "C:\\Users\\Lenovo Pc\\PycharmProjects\\Logistic_Regression_Banking\\venv\\lib\\site-packages\\sklearn\\linear_model\\logistic.py:433: FutureWarning: Default solver will be changed to 'lbfgs' in 0.22. Specify a solver to silence this warning.\n  FutureWarning)\n"
     ]
    },
    {
     "name": "stderr",
     "output_type": "stream",
     "text": [
      "C:\\Users\\Lenovo Pc\\PycharmProjects\\Logistic_Regression_Banking\\venv\\lib\\site-packages\\sklearn\\linear_model\\logistic.py:433: FutureWarning: Default solver will be changed to 'lbfgs' in 0.22. Specify a solver to silence this warning.\n  FutureWarning)\n"
     ]
    },
    {
     "name": "stderr",
     "output_type": "stream",
     "text": [
      "C:\\Users\\Lenovo Pc\\PycharmProjects\\Logistic_Regression_Banking\\venv\\lib\\site-packages\\sklearn\\linear_model\\logistic.py:433: FutureWarning: Default solver will be changed to 'lbfgs' in 0.22. Specify a solver to silence this warning.\n  FutureWarning)\n"
     ]
    },
    {
     "name": "stderr",
     "output_type": "stream",
     "text": [
      "C:\\Users\\Lenovo Pc\\PycharmProjects\\Logistic_Regression_Banking\\venv\\lib\\site-packages\\sklearn\\linear_model\\logistic.py:433: FutureWarning: Default solver will be changed to 'lbfgs' in 0.22. Specify a solver to silence this warning.\n  FutureWarning)\n"
     ]
    },
    {
     "name": "stderr",
     "output_type": "stream",
     "text": [
      "C:\\Users\\Lenovo Pc\\PycharmProjects\\Logistic_Regression_Banking\\venv\\lib\\site-packages\\sklearn\\linear_model\\logistic.py:433: FutureWarning: Default solver will be changed to 'lbfgs' in 0.22. Specify a solver to silence this warning.\n  FutureWarning)\n"
     ]
    },
    {
     "name": "stderr",
     "output_type": "stream",
     "text": [
      "C:\\Users\\Lenovo Pc\\PycharmProjects\\Logistic_Regression_Banking\\venv\\lib\\site-packages\\sklearn\\linear_model\\logistic.py:433: FutureWarning: Default solver will be changed to 'lbfgs' in 0.22. Specify a solver to silence this warning.\n  FutureWarning)\n"
     ]
    },
    {
     "name": "stderr",
     "output_type": "stream",
     "text": [
      "C:\\Users\\Lenovo Pc\\PycharmProjects\\Logistic_Regression_Banking\\venv\\lib\\site-packages\\sklearn\\linear_model\\logistic.py:433: FutureWarning: Default solver will be changed to 'lbfgs' in 0.22. Specify a solver to silence this warning.\n  FutureWarning)\n"
     ]
    },
    {
     "name": "stderr",
     "output_type": "stream",
     "text": [
      "C:\\Users\\Lenovo Pc\\PycharmProjects\\Logistic_Regression_Banking\\venv\\lib\\site-packages\\sklearn\\linear_model\\logistic.py:433: FutureWarning: Default solver will be changed to 'lbfgs' in 0.22. Specify a solver to silence this warning.\n  FutureWarning)\n"
     ]
    },
    {
     "name": "stderr",
     "output_type": "stream",
     "text": [
      "C:\\Users\\Lenovo Pc\\PycharmProjects\\Logistic_Regression_Banking\\venv\\lib\\site-packages\\sklearn\\linear_model\\logistic.py:433: FutureWarning: Default solver will be changed to 'lbfgs' in 0.22. Specify a solver to silence this warning.\n  FutureWarning)\n"
     ]
    },
    {
     "name": "stderr",
     "output_type": "stream",
     "text": [
      "C:\\Users\\Lenovo Pc\\PycharmProjects\\Logistic_Regression_Banking\\venv\\lib\\site-packages\\sklearn\\linear_model\\logistic.py:433: FutureWarning: Default solver will be changed to 'lbfgs' in 0.22. Specify a solver to silence this warning.\n  FutureWarning)\n"
     ]
    },
    {
     "name": "stderr",
     "output_type": "stream",
     "text": [
      "C:\\Users\\Lenovo Pc\\PycharmProjects\\Logistic_Regression_Banking\\venv\\lib\\site-packages\\sklearn\\linear_model\\logistic.py:433: FutureWarning: Default solver will be changed to 'lbfgs' in 0.22. Specify a solver to silence this warning.\n  FutureWarning)\n"
     ]
    },
    {
     "name": "stderr",
     "output_type": "stream",
     "text": [
      "C:\\Users\\Lenovo Pc\\PycharmProjects\\Logistic_Regression_Banking\\venv\\lib\\site-packages\\sklearn\\linear_model\\logistic.py:433: FutureWarning: Default solver will be changed to 'lbfgs' in 0.22. Specify a solver to silence this warning.\n  FutureWarning)\n"
     ]
    },
    {
     "name": "stderr",
     "output_type": "stream",
     "text": [
      "C:\\Users\\Lenovo Pc\\PycharmProjects\\Logistic_Regression_Banking\\venv\\lib\\site-packages\\sklearn\\linear_model\\logistic.py:433: FutureWarning: Default solver will be changed to 'lbfgs' in 0.22. Specify a solver to silence this warning.\n  FutureWarning)\n"
     ]
    },
    {
     "name": "stderr",
     "output_type": "stream",
     "text": [
      "C:\\Users\\Lenovo Pc\\PycharmProjects\\Logistic_Regression_Banking\\venv\\lib\\site-packages\\sklearn\\linear_model\\logistic.py:433: FutureWarning: Default solver will be changed to 'lbfgs' in 0.22. Specify a solver to silence this warning.\n  FutureWarning)\n"
     ]
    },
    {
     "name": "stderr",
     "output_type": "stream",
     "text": [
      "C:\\Users\\Lenovo Pc\\PycharmProjects\\Logistic_Regression_Banking\\venv\\lib\\site-packages\\sklearn\\linear_model\\logistic.py:433: FutureWarning: Default solver will be changed to 'lbfgs' in 0.22. Specify a solver to silence this warning.\n  FutureWarning)\n"
     ]
    },
    {
     "name": "stderr",
     "output_type": "stream",
     "text": [
      "C:\\Users\\Lenovo Pc\\PycharmProjects\\Logistic_Regression_Banking\\venv\\lib\\site-packages\\sklearn\\linear_model\\logistic.py:433: FutureWarning: Default solver will be changed to 'lbfgs' in 0.22. Specify a solver to silence this warning.\n  FutureWarning)\n"
     ]
    },
    {
     "name": "stderr",
     "output_type": "stream",
     "text": [
      "C:\\Users\\Lenovo Pc\\PycharmProjects\\Logistic_Regression_Banking\\venv\\lib\\site-packages\\sklearn\\linear_model\\logistic.py:433: FutureWarning: Default solver will be changed to 'lbfgs' in 0.22. Specify a solver to silence this warning.\n  FutureWarning)\n"
     ]
    },
    {
     "name": "stderr",
     "output_type": "stream",
     "text": [
      "C:\\Users\\Lenovo Pc\\PycharmProjects\\Logistic_Regression_Banking\\venv\\lib\\site-packages\\sklearn\\linear_model\\logistic.py:433: FutureWarning: Default solver will be changed to 'lbfgs' in 0.22. Specify a solver to silence this warning.\n  FutureWarning)\n"
     ]
    },
    {
     "name": "stderr",
     "output_type": "stream",
     "text": [
      "C:\\Users\\Lenovo Pc\\PycharmProjects\\Logistic_Regression_Banking\\venv\\lib\\site-packages\\sklearn\\linear_model\\logistic.py:433: FutureWarning: Default solver will be changed to 'lbfgs' in 0.22. Specify a solver to silence this warning.\n  FutureWarning)\n"
     ]
    },
    {
     "name": "stderr",
     "output_type": "stream",
     "text": [
      "C:\\Users\\Lenovo Pc\\PycharmProjects\\Logistic_Regression_Banking\\venv\\lib\\site-packages\\sklearn\\linear_model\\logistic.py:433: FutureWarning: Default solver will be changed to 'lbfgs' in 0.22. Specify a solver to silence this warning.\n  FutureWarning)\n"
     ]
    },
    {
     "name": "stderr",
     "output_type": "stream",
     "text": [
      "C:\\Users\\Lenovo Pc\\PycharmProjects\\Logistic_Regression_Banking\\venv\\lib\\site-packages\\sklearn\\linear_model\\logistic.py:433: FutureWarning: Default solver will be changed to 'lbfgs' in 0.22. Specify a solver to silence this warning.\n  FutureWarning)\n"
     ]
    },
    {
     "name": "stderr",
     "output_type": "stream",
     "text": [
      "C:\\Users\\Lenovo Pc\\PycharmProjects\\Logistic_Regression_Banking\\venv\\lib\\site-packages\\sklearn\\linear_model\\logistic.py:433: FutureWarning: Default solver will be changed to 'lbfgs' in 0.22. Specify a solver to silence this warning.\n  FutureWarning)\n"
     ]
    },
    {
     "name": "stderr",
     "output_type": "stream",
     "text": [
      "C:\\Users\\Lenovo Pc\\PycharmProjects\\Logistic_Regression_Banking\\venv\\lib\\site-packages\\sklearn\\linear_model\\logistic.py:433: FutureWarning: Default solver will be changed to 'lbfgs' in 0.22. Specify a solver to silence this warning.\n  FutureWarning)\n"
     ]
    },
    {
     "name": "stderr",
     "output_type": "stream",
     "text": [
      "C:\\Users\\Lenovo Pc\\PycharmProjects\\Logistic_Regression_Banking\\venv\\lib\\site-packages\\sklearn\\linear_model\\logistic.py:433: FutureWarning: Default solver will be changed to 'lbfgs' in 0.22. Specify a solver to silence this warning.\n  FutureWarning)\n"
     ]
    },
    {
     "name": "stderr",
     "output_type": "stream",
     "text": [
      "C:\\Users\\Lenovo Pc\\PycharmProjects\\Logistic_Regression_Banking\\venv\\lib\\site-packages\\sklearn\\linear_model\\logistic.py:433: FutureWarning: Default solver will be changed to 'lbfgs' in 0.22. Specify a solver to silence this warning.\n  FutureWarning)\n"
     ]
    },
    {
     "name": "stderr",
     "output_type": "stream",
     "text": [
      "C:\\Users\\Lenovo Pc\\PycharmProjects\\Logistic_Regression_Banking\\venv\\lib\\site-packages\\sklearn\\linear_model\\logistic.py:433: FutureWarning: Default solver will be changed to 'lbfgs' in 0.22. Specify a solver to silence this warning.\n  FutureWarning)\n"
     ]
    },
    {
     "name": "stderr",
     "output_type": "stream",
     "text": [
      "C:\\Users\\Lenovo Pc\\PycharmProjects\\Logistic_Regression_Banking\\venv\\lib\\site-packages\\sklearn\\linear_model\\logistic.py:433: FutureWarning: Default solver will be changed to 'lbfgs' in 0.22. Specify a solver to silence this warning.\n  FutureWarning)\n"
     ]
    },
    {
     "name": "stderr",
     "output_type": "stream",
     "text": [
      "C:\\Users\\Lenovo Pc\\PycharmProjects\\Logistic_Regression_Banking\\venv\\lib\\site-packages\\sklearn\\linear_model\\logistic.py:433: FutureWarning: Default solver will be changed to 'lbfgs' in 0.22. Specify a solver to silence this warning.\n  FutureWarning)\n"
     ]
    },
    {
     "name": "stdout",
     "output_type": "stream",
     "text": [
      "[False False False False False False False False  True False False  True\n False  True False False  True  True False  True False False False False\n False  True False False  True False False False  True  True False False\n False False False False False  True  True  True False False False False\n  True  True  True  True  True False False False False False  True False\n  True]\n[37 35 24 38  7 10 20 33  1 31  5  1  4  1  2 30  1  1 27  1  3  8 17 18\n 13  1 11 15  1 14 19 16  1  1 42 25 39 34 29 36 32  1  1  1  6 23 40 22\n  1  1  1  1  1 28  9 26 41 21  1 12  1]\n"
     ]
    }
   ],
   "source": [
    "data_final_vars=data_final.columns.values.tolist()\n",
    "y=['y']\n",
    "X=[i for i in data_final_vars if i not in y]\n",
    "from sklearn.feature_selection import RFE\n",
    "from sklearn.linear_model import LogisticRegression\n",
    "logreg = LogisticRegression()\n",
    "rfe = RFE(logreg, 20)\n",
    "rfe = rfe.fit(os_data_X, os_data_y.values.ravel())\n",
    "print(rfe.support_)\n",
    "print(rfe.ranking_)"
   ]
  },
  {
   "cell_type": "code",
   "execution_count": 60,
   "metadata": {},
   "outputs": [],
   "source": [
    "cols=[]\n",
    "cntt=0\n",
    "for i in rfe.ranking_:\n",
    "    if(i==1):\n",
    "      cols.append(data_final_vars[cntt])\n",
    "    cntt+=1"
   ]
  },
  {
   "cell_type": "code",
   "execution_count": 61,
   "metadata": {},
   "outputs": [
    {
     "data": {
      "text/plain": [
       "['euribor3m',\n 'job_admin.',\n 'job_entrepreneur',\n 'job_retired',\n 'job_self-employed',\n 'job_student',\n 'marital_single',\n 'education_high.school',\n 'education_unknown',\n 'default_no',\n 'loan_yes',\n 'contact_cellular',\n 'contact_telephone',\n 'month_jun',\n 'month_mar',\n 'month_may',\n 'month_nov',\n 'month_oct',\n 'day_of_week_wed',\n 'poutcome_nonexistent']"
      ]
     },
     "execution_count": 61,
     "metadata": {},
     "output_type": "execute_result"
    }
   ],
   "source": [
    "cols"
   ]
  },
  {
   "cell_type": "code",
   "execution_count": 64,
   "metadata": {},
   "outputs": [
    {
     "name": "stdout",
     "output_type": "stream",
     "text": [
      "Optimization terminated successfully.\n         Current function value: 0.558576\n         Iterations 6\n                            Results: Logit\n======================================================================\nModel:                 Logit             Pseudo R-squared:  0.194     \nDependent Variable:    y                 AIC:               57164.4732\nDate:                  2019-03-31 01:16  BIC:               57341.3173\nNo. Observations:      51134             Log-Likelihood:    -28562.   \nDf Model:              19                LL-Null:           -35443.   \nDf Residuals:          51114             LLR p-value:       0.0000    \nConverged:             1.0000            Scale:             1.0000    \nNo. Iterations:        6.0000                                         \n----------------------------------------------------------------------\n                       Coef.  Std.Err.    z     P>|z|   [0.025  0.975]\n----------------------------------------------------------------------\neuribor3m             -0.4499   0.0076 -59.0048 0.0000 -0.4648 -0.4349\njob_admin.             0.2092   0.0260   8.0594 0.0000  0.1583  0.2601\njob_entrepreneur       0.1069   0.0617   1.7327 0.0831 -0.0140  0.2278\njob_retired            0.5000   0.0514   9.7186 0.0000  0.3991  0.6008\njob_self-employed      0.0107   0.0611   0.1751 0.8610 -0.1091  0.1305\njob_student            0.6644   0.0742   8.9587 0.0000  0.5191  0.8098\nmarital_single         0.0961   0.0249   3.8628 0.0001  0.0473  0.1449\neducation_high.school -0.0011   0.0267  -0.0423 0.9662 -0.0535  0.0512\neducation_unknown      0.1068   0.0555   1.9254 0.0542 -0.0019  0.2156\ndefault_no             0.2821   0.0310   9.1086 0.0000  0.2214  0.3428\nloan_yes              -0.0095   0.0307  -0.3093 0.7571 -0.0696  0.0506\ncontact_cellular       1.3148   0.0457  28.7659 0.0000  1.2252  1.4044\ncontact_telephone      1.2879   0.0614  20.9900 0.0000  1.1676  1.4081\nmonth_jun              0.0699   0.0389   1.7974 0.0723 -0.0063  0.1461\nmonth_mar              1.1951   0.0924  12.9396 0.0000  1.0141  1.3761\nmonth_may             -0.9866   0.0299 -32.9804 0.0000 -1.0452 -0.9280\nmonth_nov             -0.2895   0.0367  -7.8986 0.0000 -0.3614 -0.2177\nmonth_oct              1.0949   0.0814  13.4454 0.0000  0.9353  1.2545\nday_of_week_wed        0.2096   0.0272   7.6943 0.0000  0.1562  0.2630\npoutcome_nonexistent  -0.2073   0.0309  -6.7022 0.0000 -0.2679 -0.1467\n======================================================================\n\n"
     ]
    }
   ],
   "source": [
    "X=os_data_X[cols]\n",
    "y=os_data_y['y']\n",
    "import statsmodels.api as sm\n",
    "logit_model=sm.Logit(y,X)\n",
    "result=logit_model.fit()\n",
    "print(result.summary2())"
   ]
  },
  {
   "cell_type": "code",
   "execution_count": 65,
   "metadata": {},
   "outputs": [],
   "source": [
    "cols.remove('job_entrepreneur')"
   ]
  },
  {
   "cell_type": "code",
   "execution_count": 67,
   "metadata": {},
   "outputs": [],
   "source": [
    "cols.remove('job_self-employed')\n",
    "cols.remove('education_unknown')\n",
    "cols.remove('month_jun')\n",
    "cols.remove('loan_yes')\n",
    "cols.remove('education_high.school')"
   ]
  },
  {
   "cell_type": "code",
   "execution_count": 68,
   "metadata": {},
   "outputs": [
    {
     "data": {
      "text/plain": [
       "['euribor3m',\n 'job_admin.',\n 'job_retired',\n 'job_student',\n 'marital_single',\n 'default_no',\n 'contact_cellular',\n 'contact_telephone',\n 'month_mar',\n 'month_may',\n 'month_nov',\n 'month_oct',\n 'day_of_week_wed',\n 'poutcome_nonexistent']"
      ]
     },
     "execution_count": 68,
     "metadata": {},
     "output_type": "execute_result"
    }
   ],
   "source": [
    "cols"
   ]
  },
  {
   "cell_type": "code",
   "execution_count": 69,
   "metadata": {},
   "outputs": [
    {
     "name": "stdout",
     "output_type": "stream",
     "text": [
      "Optimization terminated successfully.\n         Current function value: 0.558674\n         Iterations 6\n                           Results: Logit\n=====================================================================\nModel:                Logit             Pseudo R-squared:  0.194     \nDependent Variable:   y                 AIC:               57162.4653\nDate:                 2019-03-31 01:26  BIC:               57286.2562\nNo. Observations:     51134             Log-Likelihood:    -28567.   \nDf Model:             13                LL-Null:           -35443.   \nDf Residuals:         51120             LLR p-value:       0.0000    \nConverged:            1.0000            Scale:             1.0000    \nNo. Iterations:       6.0000                                         \n---------------------------------------------------------------------\n                      Coef.  Std.Err.    z     P>|z|   [0.025  0.975]\n---------------------------------------------------------------------\neuribor3m            -0.4530   0.0075 -60.4757 0.0000 -0.4677 -0.4383\njob_admin.            0.1996   0.0253   7.8754 0.0000  0.1499  0.2493\njob_retired           0.4879   0.0511   9.5526 0.0000  0.3878  0.5880\njob_student           0.6742   0.0732   9.2104 0.0000  0.5307  0.8176\nmarital_single        0.0933   0.0248   3.7590 0.0002  0.0447  0.1420\ndefault_no            0.2786   0.0309   9.0139 0.0000  0.2180  0.3391\ncontact_cellular      1.3491   0.0434  31.1074 0.0000  1.2641  1.4341\ncontact_telephone     1.3549   0.0539  25.1570 0.0000  1.2493  1.4604\nmonth_mar             1.1721   0.0916  12.8018 0.0000  0.9927  1.3516\nmonth_may            -1.0138   0.0266 -38.1539 0.0000 -1.0659 -0.9617\nmonth_nov            -0.3007   0.0358  -8.4035 0.0000 -0.3708 -0.2306\nmonth_oct             1.0651   0.0800  13.3176 0.0000  0.9083  1.2218\nday_of_week_wed       0.2094   0.0272   7.6913 0.0000  0.1561  0.2628\npoutcome_nonexistent -0.2073   0.0309  -6.7077 0.0000 -0.2679 -0.1468\n=====================================================================\n\n"
     ]
    }
   ],
   "source": [
    "X=os_data_X[cols]\n",
    "y=os_data_y['y']\n",
    "logit_model=sm.Logit(y,X)\n",
    "result=logit_model.fit()\n",
    "print(result.summary2())"
   ]
  },
  {
   "cell_type": "code",
   "execution_count": 70,
   "metadata": {},
   "outputs": [
    {
     "name": "stderr",
     "output_type": "stream",
     "text": [
      "C:\\Users\\Lenovo Pc\\PycharmProjects\\Logistic_Regression_Banking\\venv\\lib\\site-packages\\sklearn\\linear_model\\logistic.py:433: FutureWarning: Default solver will be changed to 'lbfgs' in 0.22. Specify a solver to silence this warning.\n  FutureWarning)\n"
     ]
    },
    {
     "data": {
      "text/plain": [
       "LogisticRegression(C=1.0, class_weight=None, dual=False, fit_intercept=True,\n          intercept_scaling=1, max_iter=100, multi_class='warn',\n          n_jobs=None, penalty='l2', random_state=None, solver='warn',\n          tol=0.0001, verbose=0, warm_start=False)"
      ]
     },
     "execution_count": 70,
     "metadata": {},
     "output_type": "execute_result"
    }
   ],
   "source": [
    "from sklearn import metrics\n",
    "X_train, X_test, y_train, y_test = train_test_split(X, y, test_size=0.3, random_state=0)\n",
    "logreg.fit(X_train, y_train)"
   ]
  },
  {
   "cell_type": "code",
   "execution_count": 71,
   "metadata": {},
   "outputs": [
    {
     "name": "stdout",
     "output_type": "stream",
     "text": [
      "Accuracy of logistic regression classifier on test set: 0.74\n"
     ]
    }
   ],
   "source": [
    "y_pred = logreg.predict(X_test)\n",
    "print('Accuracy of logistic regression classifier on test set: {:.2f}'.format(logreg.score(X_test, y_test)))"
   ]
  },
  {
   "cell_type": "code",
   "execution_count": 72,
   "metadata": {},
   "outputs": [
    {
     "name": "stdout",
     "output_type": "stream",
     "text": [
      "[[6079 1587]\n [2441 5234]]\n"
     ]
    }
   ],
   "source": [
    "from sklearn.metrics import confusion_matrix\n",
    "confusion_matrix = confusion_matrix(y_test, y_pred)\n",
    "print(confusion_matrix)"
   ]
  },
  {
   "cell_type": "code",
   "execution_count": 73,
   "metadata": {},
   "outputs": [
    {
     "name": "stdout",
     "output_type": "stream",
     "text": [
      "              precision    recall  f1-score   support\n\n           0       0.71      0.79      0.75      7666\n           1       0.77      0.68      0.72      7675\n\n   micro avg       0.74      0.74      0.74     15341\n   macro avg       0.74      0.74      0.74     15341\nweighted avg       0.74      0.74      0.74     15341\n\n"
     ]
    }
   ],
   "source": [
    "from sklearn.metrics import classification_report\n",
    "print(classification_report(y_test, y_pred))"
   ]
  },
  {
   "cell_type": "code",
   "execution_count": 74,
   "metadata": {},
   "outputs": [
    {
     "data": {
      "image/png": "[encoded data removed]",
      "text/plain": [
       "<Figure size 432x288 with 1 Axes>"
      ]
     },
     "metadata": {},
     "output_type": "display_data"
    }
   ],
   "source": [
    "from sklearn.metrics import roc_auc_score\n",
    "from sklearn.metrics import roc_curve\n",
    "logit_roc_auc = roc_auc_score(y_test, logreg.predict(X_test))\n",
    "fpr, tpr, thresholds = roc_curve(y_test, logreg.predict_proba(X_test)[:,1])\n",
    "plt.figure()\n",
    "plt.plot(fpr, tpr, label='Logistic Regression (area = %0.2f)' % logit_roc_auc)\n",
    "plt.plot([0, 1], [0, 1],'r--')\n",
    "plt.xlim([0.0, 1.0])\n",
    "plt.ylim([0.0, 1.05])\n",
    "plt.xlabel('False Positive Rate')\n",
    "plt.ylabel('True Positive Rate')\n",
    "plt.title('Receiver operating characteristic')\n",
    "plt.legend(loc=\"lower right\")\n",
    "plt.savefig('Log_ROC')\n",
    "plt.show()"
   ]
  },
  {
   "cell_type": "code",
   "execution_count": null,
   "metadata": {},
   "outputs": [],
   "source": []
  }
 ],
 "metadata": {
  "kernelspec": {
   "display_name": "Python 2",
   "language": "python",
   "name": "python2"
  },
  "language_info": {
   "codemirror_mode": {
    "name": "ipython",
    "version": 2
   },
   "file_extension": ".py",
   "mimetype": "text/x-python",
   "name": "python",
   "nbconvert_exporter": "python",
   "pygments_lexer": "ipython2",
   "version": "2.7.6"
  }
 },
 "nbformat": 4,
 "nbformat_minor": 0
}
