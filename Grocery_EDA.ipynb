{
 "cells": [
  {
   "cell_type": "code",
   "execution_count": 226,
   "metadata": {
    "scrolled": true
   },
   "outputs": [
    {
     "name": "stdout",
     "output_type": "stream",
     "text": [
      "1000\n"
     ]
    },
    {
     "data": {
      "text/html": [
       "<div>\n",
       "<style scoped>\n",
       "    .dataframe tbody tr th:only-of-type {\n",
       "        vertical-align: middle;\n",
       "    }\n",
       "\n",
       "    .dataframe tbody tr th {\n",
       "        vertical-align: top;\n",
       "    }\n",
       "\n",
       "    .dataframe thead th {\n",
       "        text-align: right;\n",
       "    }\n",
       "</style>\n",
       "<table border=\"1\" class=\"dataframe\">\n",
       "  <thead>\n",
       "    <tr style=\"text-align: right;\">\n",
       "      <th></th>\n",
       "      <th>Transaction</th>\n",
       "      <th>Purchase Date</th>\n",
       "      <th>Customer ID</th>\n",
       "      <th>Gender</th>\n",
       "      <th>Annual Income</th>\n",
       "      <th>Product Category</th>\n",
       "      <th>Units Sold</th>\n",
       "      <th>Revenue</th>\n",
       "    </tr>\n",
       "  </thead>\n",
       "  <tbody>\n",
       "    <tr>\n",
       "      <td>0</td>\n",
       "      <td>1</td>\n",
       "      <td>12/26/2011</td>\n",
       "      <td>9357</td>\n",
       "      <td>NaN</td>\n",
       "      <td>$30K - $50K</td>\n",
       "      <td>Food</td>\n",
       "      <td>3.0</td>\n",
       "      <td>$11.82</td>\n",
       "    </tr>\n",
       "    <tr>\n",
       "      <td>1</td>\n",
       "      <td>2</td>\n",
       "      <td>1/1/2012</td>\n",
       "      <td>6510</td>\n",
       "      <td>F</td>\n",
       "      <td>$50K - $70K</td>\n",
       "      <td>Food</td>\n",
       "      <td>5.0</td>\n",
       "      <td>$7.23</td>\n",
       "    </tr>\n",
       "    <tr>\n",
       "      <td>2</td>\n",
       "      <td>3</td>\n",
       "      <td>1/5/2012</td>\n",
       "      <td>3533</td>\n",
       "      <td>F</td>\n",
       "      <td>NaN</td>\n",
       "      <td>Drink</td>\n",
       "      <td>4.0</td>\n",
       "      <td>$2.94</td>\n",
       "    </tr>\n",
       "    <tr>\n",
       "      <td>3</td>\n",
       "      <td>4</td>\n",
       "      <td>1/7/2012</td>\n",
       "      <td>2061</td>\n",
       "      <td>M</td>\n",
       "      <td>$10K - $30K</td>\n",
       "      <td>Food</td>\n",
       "      <td>5.0</td>\n",
       "      <td>$11.05</td>\n",
       "    </tr>\n",
       "    <tr>\n",
       "      <td>4</td>\n",
       "      <td>5</td>\n",
       "      <td>1/9/2012</td>\n",
       "      <td>2198</td>\n",
       "      <td>F</td>\n",
       "      <td>$50K - $70K</td>\n",
       "      <td>Non-Consumable</td>\n",
       "      <td>3.0</td>\n",
       "      <td>$17.28</td>\n",
       "    </tr>\n",
       "  </tbody>\n",
       "</table>\n",
       "</div>"
      ],
      "text/plain": [
       "   Transaction Purchase Date  Customer ID Gender Annual Income  \\\n",
       "0            1    12/26/2011         9357    NaN   $30K - $50K   \n",
       "1            2      1/1/2012         6510      F   $50K - $70K   \n",
       "2            3      1/5/2012         3533      F           NaN   \n",
       "3            4      1/7/2012         2061      M   $10K - $30K   \n",
       "4            5      1/9/2012         2198      F   $50K - $70K   \n",
       "\n",
       "  Product Category  Units Sold Revenue  \n",
       "0             Food         3.0  $11.82  \n",
       "1             Food         5.0   $7.23  \n",
       "2            Drink         4.0   $2.94  \n",
       "3             Food         5.0  $11.05  \n",
       "4   Non-Consumable         3.0  $17.28  "
      ]
     },
     "execution_count": 226,
     "metadata": {},
     "output_type": "execute_result"
    }
   ],
   "source": [
    "import pandas as pd\n",
    "import numpy as np\n",
    "\n",
    "\n",
    "df = df= pd.read_csv(\"D:\\STUDY\\MBA\\MBA 753\\RapidMiner\\GROCERY.csv\")\n",
    "print(len(df))\n",
    "df.head()"
   ]
  },
  {
   "cell_type": "code",
   "execution_count": 227,
   "metadata": {
    "scrolled": false
   },
   "outputs": [
    {
     "name": "stdout",
     "output_type": "stream",
     "text": [
      "0\n",
      "971\n"
     ]
    }
   ],
   "source": [
    "df.dropna(how='any', inplace=True)\n",
    "# print(len(df))\n",
    "# df.head()\n",
    "count_False = 0\n",
    "count_NaN = 0\n",
    "for i in range(0,len(df)):\n",
    "#     print(i)\n",
    "    if (pd.isna(df.iloc[i,7])==False):\n",
    "#         print(df.iloc[i,:])\n",
    "        count_False = count_False + 1\n",
    "    if (pd.isna(df.iloc[i,7])==True):\n",
    "#         print(df.iloc[i,:])\n",
    "        count_NaN = count_NaN + 1\n",
    "    \n",
    "print(count_NaN)\n",
    "print(count_False)"
   ]
  },
  {
   "cell_type": "code",
   "execution_count": 219,
   "metadata": {},
   "outputs": [
    {
     "data": {
      "text/html": [
       "<div>\n",
       "<style scoped>\n",
       "    .dataframe tbody tr th:only-of-type {\n",
       "        vertical-align: middle;\n",
       "    }\n",
       "\n",
       "    .dataframe tbody tr th {\n",
       "        vertical-align: top;\n",
       "    }\n",
       "\n",
       "    .dataframe thead th {\n",
       "        text-align: right;\n",
       "    }\n",
       "</style>\n",
       "<table border=\"1\" class=\"dataframe\">\n",
       "  <thead>\n",
       "    <tr style=\"text-align: right;\">\n",
       "      <th></th>\n",
       "      <th>Transaction</th>\n",
       "      <th>Purchase Date</th>\n",
       "      <th>Customer ID</th>\n",
       "      <th>Gender</th>\n",
       "      <th>Annual Income</th>\n",
       "      <th>Product Category</th>\n",
       "      <th>Units Sold</th>\n",
       "      <th>Revenue</th>\n",
       "    </tr>\n",
       "  </thead>\n",
       "  <tbody>\n",
       "    <tr>\n",
       "      <td>1</td>\n",
       "      <td>2</td>\n",
       "      <td>1/1/2012</td>\n",
       "      <td>6510</td>\n",
       "      <td>F</td>\n",
       "      <td>$50K - $70K</td>\n",
       "      <td>Food</td>\n",
       "      <td>5.0</td>\n",
       "      <td>$7.23</td>\n",
       "    </tr>\n",
       "    <tr>\n",
       "      <td>3</td>\n",
       "      <td>4</td>\n",
       "      <td>1/7/2012</td>\n",
       "      <td>2061</td>\n",
       "      <td>M</td>\n",
       "      <td>$10K - $30K</td>\n",
       "      <td>Food</td>\n",
       "      <td>5.0</td>\n",
       "      <td>$11.05</td>\n",
       "    </tr>\n",
       "    <tr>\n",
       "      <td>4</td>\n",
       "      <td>5</td>\n",
       "      <td>1/9/2012</td>\n",
       "      <td>2198</td>\n",
       "      <td>F</td>\n",
       "      <td>$50K - $70K</td>\n",
       "      <td>Non-Consumable</td>\n",
       "      <td>3.0</td>\n",
       "      <td>$17.28</td>\n",
       "    </tr>\n",
       "    <tr>\n",
       "      <td>5</td>\n",
       "      <td>6</td>\n",
       "      <td>1/13/2012</td>\n",
       "      <td>1429</td>\n",
       "      <td>F</td>\n",
       "      <td>$30K - $50K</td>\n",
       "      <td>Non-Consumable</td>\n",
       "      <td>2.0</td>\n",
       "      <td>$12.70</td>\n",
       "    </tr>\n",
       "    <tr>\n",
       "      <td>6</td>\n",
       "      <td>7</td>\n",
       "      <td>1/14/2012</td>\n",
       "      <td>1254</td>\n",
       "      <td>F</td>\n",
       "      <td>$90K - $110K</td>\n",
       "      <td>Food</td>\n",
       "      <td>4.0</td>\n",
       "      <td>$24.11</td>\n",
       "    </tr>\n",
       "  </tbody>\n",
       "</table>\n",
       "</div>"
      ],
      "text/plain": [
       "   Transaction Purchase Date  Customer ID Gender Annual Income  \\\n",
       "1            2      1/1/2012         6510      F   $50K - $70K   \n",
       "3            4      1/7/2012         2061      M   $10K - $30K   \n",
       "4            5      1/9/2012         2198      F   $50K - $70K   \n",
       "5            6     1/13/2012         1429      F   $30K - $50K   \n",
       "6            7     1/14/2012         1254      F  $90K - $110K   \n",
       "\n",
       "  Product Category  Units Sold Revenue  \n",
       "1             Food         5.0   $7.23  \n",
       "3             Food         5.0  $11.05  \n",
       "4   Non-Consumable         3.0  $17.28  \n",
       "5   Non-Consumable         2.0  $12.70  \n",
       "6             Food         4.0  $24.11  "
      ]
     },
     "execution_count": 219,
     "metadata": {},
     "output_type": "execute_result"
    }
   ],
   "source": [
    "df.head()"
   ]
  },
  {
   "cell_type": "code",
   "execution_count": 228,
   "metadata": {
    "scrolled": false
   },
   "outputs": [
    {
     "name": "stdout",
     "output_type": "stream",
     "text": [
      "0\n",
      "971\n",
      "Transaction           int64\n",
      "Purchase Date        object\n",
      "Customer ID           int64\n",
      "Gender               object\n",
      "Annual Income        object\n",
      "Product Category     object\n",
      "Units Sold          float64\n",
      "Revenue             float64\n",
      "dtype: object\n"
     ]
    }
   ],
   "source": [
    "\n",
    "df['Revenue']  = df['Revenue'].str.replace('$', \" \")\n",
    "df['Revenue']  = df['Revenue'].str.replace(',', \"\")\n",
    "df['Revenue'] = df['Revenue'].astype('float64')\n",
    "\n",
    "\n",
    "count_False = 0\n",
    "count_NaN = 0\n",
    "for i in range(0,len(df)):\n",
    "#     print(i)\n",
    "    if (pd.isna(df.iloc[i,7])==False):\n",
    "#         print(df.iloc[i,:])\n",
    "        count_False = count_False + 1\n",
    "    if (pd.isna(df.iloc[i,7])==True):\n",
    "        print(df.iloc[i,:])\n",
    "        count_NaN = count_NaN + 1\n",
    "    \n",
    "print(count_NaN)\n",
    "print(count_False)\n",
    "print(df.dtypes)"
   ]
  },
  {
   "cell_type": "code",
   "execution_count": 230,
   "metadata": {},
   "outputs": [
    {
     "data": {
      "text/plain": [
       "578545.65"
      ]
     },
     "execution_count": 230,
     "metadata": {},
     "output_type": "execute_result"
    }
   ],
   "source": [
    "df['Revenue'].max()"
   ]
  },
  {
   "cell_type": "code",
   "execution_count": 232,
   "metadata": {
    "scrolled": false
   },
   "outputs": [
    {
     "name": "stdout",
     "output_type": "stream",
     "text": [
      "['Food' 'Non-Consumable' 'Drink']\n",
      "['Female' 'Male']\n"
     ]
    },
    {
     "data": {
      "text/html": [
       "<div>\n",
       "<style scoped>\n",
       "    .dataframe tbody tr th:only-of-type {\n",
       "        vertical-align: middle;\n",
       "    }\n",
       "\n",
       "    .dataframe tbody tr th {\n",
       "        vertical-align: top;\n",
       "    }\n",
       "\n",
       "    .dataframe thead th {\n",
       "        text-align: right;\n",
       "    }\n",
       "</style>\n",
       "<table border=\"1\" class=\"dataframe\">\n",
       "  <thead>\n",
       "    <tr style=\"text-align: right;\">\n",
       "      <th></th>\n",
       "      <th>Transaction</th>\n",
       "      <th>Purchase Date</th>\n",
       "      <th>Customer ID</th>\n",
       "      <th>Gender</th>\n",
       "      <th>Annual Income</th>\n",
       "      <th>Product Category</th>\n",
       "      <th>Units Sold</th>\n",
       "      <th>Revenue</th>\n",
       "    </tr>\n",
       "  </thead>\n",
       "  <tbody>\n",
       "    <tr>\n",
       "      <td>1</td>\n",
       "      <td>2</td>\n",
       "      <td>1/1/2012</td>\n",
       "      <td>6510</td>\n",
       "      <td>Female</td>\n",
       "      <td>$50K - $70K</td>\n",
       "      <td>Food</td>\n",
       "      <td>5.0</td>\n",
       "      <td>7.23</td>\n",
       "    </tr>\n",
       "    <tr>\n",
       "      <td>3</td>\n",
       "      <td>4</td>\n",
       "      <td>1/7/2012</td>\n",
       "      <td>2061</td>\n",
       "      <td>Male</td>\n",
       "      <td>$10K - $30K</td>\n",
       "      <td>Food</td>\n",
       "      <td>5.0</td>\n",
       "      <td>11.05</td>\n",
       "    </tr>\n",
       "    <tr>\n",
       "      <td>4</td>\n",
       "      <td>5</td>\n",
       "      <td>1/9/2012</td>\n",
       "      <td>2198</td>\n",
       "      <td>Female</td>\n",
       "      <td>$50K - $70K</td>\n",
       "      <td>Non-Consumable</td>\n",
       "      <td>3.0</td>\n",
       "      <td>17.28</td>\n",
       "    </tr>\n",
       "    <tr>\n",
       "      <td>5</td>\n",
       "      <td>6</td>\n",
       "      <td>1/13/2012</td>\n",
       "      <td>1429</td>\n",
       "      <td>Female</td>\n",
       "      <td>$30K - $50K</td>\n",
       "      <td>Non-Consumable</td>\n",
       "      <td>2.0</td>\n",
       "      <td>12.70</td>\n",
       "    </tr>\n",
       "    <tr>\n",
       "      <td>6</td>\n",
       "      <td>7</td>\n",
       "      <td>1/14/2012</td>\n",
       "      <td>1254</td>\n",
       "      <td>Female</td>\n",
       "      <td>$90K - $110K</td>\n",
       "      <td>Food</td>\n",
       "      <td>4.0</td>\n",
       "      <td>24.11</td>\n",
       "    </tr>\n",
       "  </tbody>\n",
       "</table>\n",
       "</div>"
      ],
      "text/plain": [
       "   Transaction Purchase Date  Customer ID  Gender Annual Income  \\\n",
       "1            2      1/1/2012         6510  Female   $50K - $70K   \n",
       "3            4      1/7/2012         2061    Male   $10K - $30K   \n",
       "4            5      1/9/2012         2198  Female   $50K - $70K   \n",
       "5            6     1/13/2012         1429  Female   $30K - $50K   \n",
       "6            7     1/14/2012         1254  Female  $90K - $110K   \n",
       "\n",
       "  Product Category  Units Sold  Revenue  \n",
       "1             Food         5.0     7.23  \n",
       "3             Food         5.0    11.05  \n",
       "4   Non-Consumable         3.0    17.28  \n",
       "5   Non-Consumable         2.0    12.70  \n",
       "6             Food         4.0    24.11  "
      ]
     },
     "execution_count": 232,
     "metadata": {},
     "output_type": "execute_result"
    }
   ],
   "source": [
    "df['Gender'] = df['Gender'].map({'M': 'Male','F': 'Female','Male': 'Male','Female': 'Female' })\n",
    "codes = {'Foods': 'Food', 'Drinks': 'Drink', 'None Consumable' : 'Non-Consumable','Food': 'Food', 'Drink': 'Drink', 'Non-Consumable' : 'Non-Consumable'}\n",
    "df['Product Category'] = df['Product Category'].map(codes)\n",
    "# df1 = df.rename({'Product Category':'Product_Category'}, axis=1)\n",
    "# df1.head()\n",
    "print(df['Product Category'].unique())\n",
    "print(df['Gender'].unique())\n",
    "df.head()"
   ]
  },
  {
   "cell_type": "code",
   "execution_count": 233,
   "metadata": {
    "scrolled": true
   },
   "outputs": [
    {
     "data": {
      "text/plain": [
       "<matplotlib.axes._subplots.AxesSubplot at 0x17bfe00b608>"
      ]
     },
     "execution_count": 233,
     "metadata": {},
     "output_type": "execute_result"
    },
    {
     "data": {
      "image/png": "[encoded data removed]",
      "text/plain": [
       "<Figure size 432x288 with 1 Axes>"
      ]
     },
     "metadata": {
      "needs_background": "light"
     },
     "output_type": "display_data"
    }
   ],
   "source": [
    "df.plot(kind='box')"
   ]
  },
  {
   "cell_type": "code",
   "execution_count": 234,
   "metadata": {},
   "outputs": [
    {
     "data": {
      "text/plain": [
       "<matplotlib.axes._subplots.AxesSubplot at 0x17bfe20b408>"
      ]
     },
     "execution_count": 234,
     "metadata": {},
     "output_type": "execute_result"
    },
    {
     "data": {
      "image/png": "[encoded data removed]",
      "text/plain": [
       "<Figure size 432x288 with 1 Axes>"
      ]
     },
     "metadata": {
      "needs_background": "light"
     },
     "output_type": "display_data"
    }
   ],
   "source": [
    "plt.figure()\n",
    "df.boxplot(['Revenue'])"
   ]
  },
  {
   "cell_type": "code",
   "execution_count": 235,
   "metadata": {},
   "outputs": [
    {
     "name": "stdout",
     "output_type": "stream",
     "text": [
      "[578545.65, 459528.95, 205950.7, 97857.5, 85377.5, 54323.6, 49003.55, 47.25, 44.1, 43.95, 42.57, 42.12, 40.82, 40.6, 40.14, 39.5, 38.88, 38.11, 37.65, 37.44, 37.37, 36.75, 36.72, 36.67, 36.61, 36.34, 36.2, 36.06, 34.42, 33.86, 33.23, 33.06, 32.97, 32.48, 32.48, 32.02, 31.77, 31.33, 31.23, 31.04, 30.99, 30.96, 30.78, 30.72, 30.58, 30.56, 30.36, 30.26, 29.79, 29.79, 29.4, 29.23, 29.12, 28.96, 28.86, 28.86, 28.64, 28.62, 28.61, 28.42, 28.24, 28.04, 27.75, 27.55, 27.16, 27.12, 27.06, 27.03, 26.96, 26.88, 26.84, 26.83, 26.59, 26.43, 26.32, 26.11, 26.07, 26.07, 26.06, 26.0, 25.98, 25.9, 25.84, 25.75, 25.69, 25.67, 25.64, 25.27, 25.08, 25.06, 24.89, 24.86, 24.84, 24.64, 24.34, 24.29, 24.19, 24.19, 24.12, 24.11, 23.98, 23.94, 23.92, 23.81, 23.81, 23.76, 23.74, 23.63, 23.61, 23.57, 23.52, 23.5, 23.49, 23.46, 23.35, 23.33, 23.32, 23.32, 23.32, 23.3, 23.27, 23.25, 23.18, 23.06, 23.04, 22.95, 22.91, 22.88, 22.88, 22.85, 22.85, 22.71, 22.7, 22.63, 22.62, 22.57, 22.57, 22.56, 22.52, 22.51, 22.44, 22.42, 22.39, 22.36, 22.35, 22.14, 22.12, 22.0, 21.96, 21.8, 21.78, 21.76, 21.72, 21.66, 21.63, 21.61, 21.6, 21.46, 21.38, 21.25, 21.22, 21.21, 21.14, 21.12, 21.01, 20.99, 20.93, 20.9, 20.82, 20.79, 20.76, 20.75, 20.75, 20.74, 20.69, 20.67, 20.63, 20.63, 20.55, 20.54, 20.45, 20.42, 20.25, 20.24, 20.2, 20.16, 20.13, 20.06, 20.05, 19.97, 19.92, 19.9, 19.85, 19.82, 19.8, 19.74, 19.71, 19.62, 19.62, 19.53, 19.52, 19.51, 19.51, 19.49, 19.45, 19.45, 19.45, 19.43, 19.4, 19.35, 19.32, 19.28, 19.18, 19.15, 19.12, 19.11, 19.01, 18.97, 18.95, 18.93, 18.85, 18.84, 18.79, 18.77, 18.72, 18.72, 18.71, 18.67, 18.67, 18.62, 18.6, 18.53, 18.48, 18.46, 18.45, 18.4, 18.4, 18.32, 18.31, 18.29, 18.24, 18.14, 18.03, 17.98, 17.95, 17.89, 17.89, 17.76, 17.76, 17.68, 17.63, 17.63, 17.55, 17.52, 17.49, 17.42, 17.35, 17.33, 17.28, 17.28, 17.2, 17.16, 17.16, 17.16, 17.12, 17.11, 17.11, 17.09, 17.09, 16.92, 16.86, 16.82, 16.77, 16.68, 16.65, 16.63, 16.63, 16.59, 16.46, 16.42, 16.38, 16.34, 16.34, 16.32, 16.26, 16.26, 16.25, 16.22, 16.19, 16.18, 16.18, 16.17, 16.14, 15.96, 15.94, 15.91, 15.83, 15.79, 15.78, 15.71, 15.7, 15.64, 15.57, 15.5, 15.46, 15.46, 15.46, 15.42, 15.41, 15.39, 15.39, 15.36, 15.35, 15.31, 15.3, 15.28, 15.25, 15.2, 15.12, 15.12, 15.12, 15.05, 15.01, 15.0, 14.96, 14.96, 14.85, 14.84, 14.82, 14.78, 14.78, 14.74, 14.71, 14.67, 14.63, 14.59, 14.53, 14.5, 14.5, 14.49, 14.48, 14.46, 14.46, 14.43, 14.4, 14.4, 14.4, 14.38, 14.36, 14.36, 14.35, 14.33, 14.29, 14.26, 14.25, 14.21, 14.16, 14.13, 14.08, 14.04, 14.04, 14.04, 14.04, 14.03, 13.99, 13.97, 13.93, 13.92, 13.88, 13.86, 13.85, 13.84, 13.8, 13.78, 13.74, 13.73, 13.73, 13.66, 13.65, 13.63, 13.6, 13.55, 13.54, 13.49, 13.45, 13.44, 13.43, 13.42, 13.4, 13.36, 13.34, 13.32, 13.32, 13.32, 13.3, 13.26, 13.25, 13.22, 13.2, 13.2, 13.18, 13.17, 13.16, 13.15, 13.14, 13.12, 13.12, 13.11, 13.1, 13.06, 13.05, 13.01, 13.01, 12.96, 12.96, 12.96, 12.95, 12.94, 12.9, 12.85, 12.8, 12.79, 12.79, 12.77, 12.76, 12.7, 12.7, 12.7, 12.69, 12.69, 12.66, 12.65, 12.53, 12.52, 12.43, 12.43, 12.38, 12.37, 12.34, 12.34, 12.31, 12.31, 12.29, 12.28, 12.26, 12.23, 12.19, 12.14, 12.05, 12.03, 12.01, 12.01, 12.01, 12.01, 11.99, 11.98, 11.97, 11.94, 11.91, 11.9, 11.9, 11.88, 11.87, 11.83, 11.8, 11.76, 11.76, 11.75, 11.66, 11.62, 11.6, 11.55, 11.52, 11.5, 11.49, 11.48, 11.47, 11.39, 11.39, 11.39, 11.38, 11.34, 11.33, 11.32, 11.28, 11.28, 11.26, 11.19, 11.19, 11.14, 11.1, 11.09, 11.09, 11.09, 11.08, 11.08, 11.05, 11.04, 11.04, 11.04, 11.01, 11.0, 10.95, 10.89, 10.88, 10.85, 10.85, 10.83, 10.82, 10.76, 10.75, 10.73, 10.69, 10.69, 10.64, 10.62, 10.6, 10.56, 10.53, 10.52, 10.51, 10.44, 10.44, 10.44, 10.38, 10.38, 10.32, 10.3, 10.3, 10.3, 10.26, 10.26, 10.26, 10.25, 10.22, 10.2, 10.19, 10.15, 10.12, 10.12, 10.12, 10.12, 10.08, 10.08, 10.08, 10.07, 10.06, 10.06, 10.04, 10.02, 10.0, 10.0, 10.0, 9.99, 9.94, 9.92, 9.85, 9.81, 9.8, 9.8, 9.79, 9.77, 9.77, 9.77, 9.74, 9.7, 9.69, 9.68, 9.68, 9.65, 9.62, 9.61, 9.57, 9.54, 9.52, 9.49, 9.48, 9.46, 9.46, 9.45, 9.39, 9.39, 9.36, 9.34, 9.29, 9.25, 9.25, 9.2, 9.18, 9.16, 9.04, 9.03, 9.02, 9.02, 9.0, 8.97, 8.95, 8.93, 8.88, 8.88, 8.85, 8.84, 8.83, 8.78, 8.78, 8.73, 8.7, 8.68, 8.67, 8.64, 8.59, 8.58, 8.58, 8.56, 8.55, 8.53, 8.5, 8.42, 8.4, 8.37, 8.35, 8.32, 8.32, 8.31, 8.29, 8.28, 8.28, 8.24, 8.23, 8.22, 8.17, 8.16, 8.16, 8.15, 8.12, 8.1, 8.06, 8.01, 8.0, 8.0, 7.96, 7.96, 7.92, 7.92, 7.88, 7.87, 7.83, 7.81, 7.8, 7.78, 7.76, 7.74, 7.71, 7.68, 7.67, 7.66, 7.64, 7.62, 7.61, 7.61, 7.57, 7.56, 7.56, 7.52, 7.49, 7.45, 7.45, 7.4, 7.34, 7.32, 7.31, 7.3, 7.3, 7.28, 7.26, 7.25, 7.25, 7.25, 7.24, 7.23, 7.22, 7.2, 7.18, 7.18, 7.17, 7.16, 7.15, 7.14, 7.13, 7.13, 7.12, 7.11, 7.11, 7.08, 7.03, 7.02, 7.0, 7.0, 6.92, 6.91, 6.9, 6.85, 6.84, 6.79, 6.77, 6.72, 6.7, 6.67, 6.67, 6.67, 6.66, 6.65, 6.63, 6.62, 6.61, 6.6, 6.58, 6.55, 6.54, 6.54, 6.52, 6.51, 6.5, 6.49, 6.48, 6.48, 6.47, 6.45, 6.44, 6.43, 6.43, 6.42, 6.4, 6.39, 6.38, 6.38, 6.38, 6.35, 6.32, 6.3, 6.3, 6.22, 6.22, 6.2, 6.2, 6.17, 6.14, 6.13, 6.12, 6.05, 6.03, 5.98, 5.93, 5.89, 5.88, 5.88, 5.85, 5.85, 5.83, 5.83, 5.8, 5.79, 5.78, 5.76, 5.73, 5.73, 5.73, 5.73, 5.69, 5.69, 5.67, 5.66, 5.66, 5.63, 5.61, 5.58, 5.58, 5.54, 5.54, 5.48, 5.46, 5.45, 5.44, 5.44, 5.43, 5.42, 5.4, 5.35, 5.35, 5.31, 5.3, 5.3, 5.28, 5.26, 5.24, 5.24, 5.21, 5.18, 5.17, 5.1, 5.09, 5.08, 5.08, 5.06, 5.05, 5.05, 5.04, 5.04, 4.99, 4.99, 4.98, 4.97, 4.96, 4.93, 4.92, 4.87, 4.86, 4.86, 4.86, 4.86, 4.82, 4.76, 4.76, 4.76, 4.75, 4.75, 4.7, 4.68, 4.68, 4.68, 4.67, 4.64, 4.62, 4.62, 4.62, 4.62, 4.59, 4.59, 4.58, 4.54, 4.54, 4.54, 4.52, 4.5, 4.49, 4.48, 4.47, 4.45, 4.42, 4.42, 4.42, 4.42, 4.38, 4.35, 4.35, 4.32, 4.32, 4.27, 4.26, 4.26, 4.23, 4.21, 4.2, 4.18, 4.18, 4.16, 4.16, 4.09, 4.07, 4.06, 4.0, 3.96, 3.96, 3.96, 3.88, 3.87, 3.85, 3.84, 3.82, 3.8, 3.67, 3.66, 3.65, 3.64, 3.64, 3.59, 3.59, 3.59, 3.58, 3.56, 3.54, 3.53, 3.45, 3.38, 3.38, 3.36, 3.36, 3.32, 3.28, 3.26, 3.24, 3.24, 3.23, 3.22, 3.21, 3.2, 3.13, 3.11, 3.06, 3.02, 2.99, 2.96, 2.94, 2.93, 2.92, 2.92, 2.9, 2.89, 2.86, 2.85, 2.81, 2.81, 2.81, 2.81, 2.8, 2.75, 2.74, 2.74, 2.7, 2.67, 2.67, 2.6, 2.58, 2.57, 2.57, 2.56, 2.54, 2.5, 2.46, 2.44, 2.43, 2.36, 2.31, 2.31, 2.27, 2.24, 2.23, 2.22, 2.21, 2.18, 2.14, 2.11, 1.98, 1.9, 1.88, 1.86, 1.85, 1.75, 1.75, 1.74, 1.74, 1.72, 1.68, 1.68, 1.64, 1.56, 1.46, 1.46, 1.32, 1.22, 0.97]\n"
     ]
    }
   ],
   "source": [
    "Rev_list = list(df['Revenue'])\n",
    "Rev_list.sort(reverse = True)\n",
    "print(Rev_list)"
   ]
  },
  {
   "cell_type": "code",
   "execution_count": 237,
   "metadata": {
    "scrolled": false
   },
   "outputs": [],
   "source": [
    "import matplotlib.pyplot as plt\n",
    "from pylab import rcParams\n",
    "import seaborn as sb\n",
    "\n",
    "%matplotlib inline\n",
    "rcParams['figure.figsize']=5,4\n",
    "sb.set_style('whitegrid')"
   ]
  },
  {
   "cell_type": "code",
   "execution_count": 239,
   "metadata": {
    "scrolled": true
   },
   "outputs": [
    {
     "data": {
      "text/plain": [
       "<matplotlib.axes._subplots.AxesSubplot at 0x17b845395c8>"
      ]
     },
     "execution_count": 239,
     "metadata": {},
     "output_type": "execute_result"
    },
    {
     "data": {
      "image/png": "[encoded data removed]",
      "text/plain": [
       "<Figure size 360x288 with 1 Axes>"
      ]
     },
     "metadata": {},
     "output_type": "display_data"
    }
   ],
   "source": [
    "sb.boxplot(x='Units Sold',y='Revenue', data=df,palette='hls')"
   ]
  },
  {
   "cell_type": "code",
   "execution_count": 49,
   "metadata": {
    "scrolled": true
   },
   "outputs": [
    {
     "name": "stdout",
     "output_type": "stream",
     "text": [
      "971\n"
     ]
    },
    {
     "data": {
      "text/html": [
       "<div>\n",
       "<style scoped>\n",
       "    .dataframe tbody tr th:only-of-type {\n",
       "        vertical-align: middle;\n",
       "    }\n",
       "\n",
       "    .dataframe tbody tr th {\n",
       "        vertical-align: top;\n",
       "    }\n",
       "\n",
       "    .dataframe thead th {\n",
       "        text-align: right;\n",
       "    }\n",
       "</style>\n",
       "<table border=\"1\" class=\"dataframe\">\n",
       "  <thead>\n",
       "    <tr style=\"text-align: right;\">\n",
       "      <th></th>\n",
       "      <th>Transaction</th>\n",
       "      <th>Purchase Date</th>\n",
       "      <th>Customer ID</th>\n",
       "      <th>Gender</th>\n",
       "      <th>Annual Income</th>\n",
       "      <th>ProductCategory</th>\n",
       "      <th>Units Sold</th>\n",
       "      <th>Revenue</th>\n",
       "    </tr>\n",
       "  </thead>\n",
       "  <tbody>\n",
       "    <tr>\n",
       "      <td>1</td>\n",
       "      <td>2</td>\n",
       "      <td>1/1/2012</td>\n",
       "      <td>6510</td>\n",
       "      <td>Female</td>\n",
       "      <td>$50K - $70K</td>\n",
       "      <td>NaN</td>\n",
       "      <td>5.0</td>\n",
       "      <td>$7.23</td>\n",
       "    </tr>\n",
       "    <tr>\n",
       "      <td>3</td>\n",
       "      <td>4</td>\n",
       "      <td>1/7/2012</td>\n",
       "      <td>2061</td>\n",
       "      <td>Male</td>\n",
       "      <td>$10K - $30K</td>\n",
       "      <td>NaN</td>\n",
       "      <td>5.0</td>\n",
       "      <td>$11.05</td>\n",
       "    </tr>\n",
       "    <tr>\n",
       "      <td>4</td>\n",
       "      <td>5</td>\n",
       "      <td>1/9/2012</td>\n",
       "      <td>2198</td>\n",
       "      <td>Female</td>\n",
       "      <td>$50K - $70K</td>\n",
       "      <td>NaN</td>\n",
       "      <td>3.0</td>\n",
       "      <td>$17.28</td>\n",
       "    </tr>\n",
       "    <tr>\n",
       "      <td>5</td>\n",
       "      <td>6</td>\n",
       "      <td>1/13/2012</td>\n",
       "      <td>1429</td>\n",
       "      <td>Female</td>\n",
       "      <td>$30K - $50K</td>\n",
       "      <td>NaN</td>\n",
       "      <td>2.0</td>\n",
       "      <td>$12.70</td>\n",
       "    </tr>\n",
       "    <tr>\n",
       "      <td>6</td>\n",
       "      <td>7</td>\n",
       "      <td>1/14/2012</td>\n",
       "      <td>1254</td>\n",
       "      <td>Female</td>\n",
       "      <td>$90K - $110K</td>\n",
       "      <td>NaN</td>\n",
       "      <td>4.0</td>\n",
       "      <td>$24.11</td>\n",
       "    </tr>\n",
       "  </tbody>\n",
       "</table>\n",
       "</div>"
      ],
      "text/plain": [
       "   Transaction Purchase Date  Customer ID  Gender Annual Income  \\\n",
       "1            2      1/1/2012         6510  Female   $50K - $70K   \n",
       "3            4      1/7/2012         2061    Male   $10K - $30K   \n",
       "4            5      1/9/2012         2198  Female   $50K - $70K   \n",
       "5            6     1/13/2012         1429  Female   $30K - $50K   \n",
       "6            7     1/14/2012         1254  Female  $90K - $110K   \n",
       "\n",
       "  ProductCategory  Units Sold Revenue  \n",
       "1             NaN         5.0   $7.23  \n",
       "3             NaN         5.0  $11.05  \n",
       "4             NaN         3.0  $17.28  \n",
       "5             NaN         2.0  $12.70  \n",
       "6             NaN         4.0  $24.11  "
      ]
     },
     "execution_count": 49,
     "metadata": {},
     "output_type": "execute_result"
    }
   ],
   "source": []
  },
  {
   "cell_type": "code",
   "execution_count": 51,
   "metadata": {},
   "outputs": [
    {
     "name": "stdout",
     "output_type": "stream",
     "text": [
      "object\n",
      "object\n"
     ]
    }
   ],
   "source": []
  },
  {
   "cell_type": "code",
   "execution_count": 38,
   "metadata": {},
   "outputs": [
    {
     "data": {
      "text/plain": [
       "1        NaN\n",
       "3        NaN\n",
       "4        NaN\n",
       "5        NaN\n",
       "6        NaN\n",
       "       ...  \n",
       "995      NaN\n",
       "996    Drink\n",
       "997      NaN\n",
       "998      NaN\n",
       "999      NaN\n",
       "Name: Product Category, Length: 971, dtype: object"
      ]
     },
     "execution_count": 38,
     "metadata": {},
     "output_type": "execute_result"
    }
   ],
   "source": []
  },
  {
   "cell_type": "code",
   "execution_count": 15,
   "metadata": {},
   "outputs": [
    {
     "data": {
      "text/html": [
       "<div>\n",
       "<style scoped>\n",
       "    .dataframe tbody tr th:only-of-type {\n",
       "        vertical-align: middle;\n",
       "    }\n",
       "\n",
       "    .dataframe tbody tr th {\n",
       "        vertical-align: top;\n",
       "    }\n",
       "\n",
       "    .dataframe thead th {\n",
       "        text-align: right;\n",
       "    }\n",
       "</style>\n",
       "<table border=\"1\" class=\"dataframe\">\n",
       "  <thead>\n",
       "    <tr style=\"text-align: right;\">\n",
       "      <th></th>\n",
       "      <th>Transaction</th>\n",
       "      <th>Purchase Date</th>\n",
       "      <th>Customer ID</th>\n",
       "      <th>Gender</th>\n",
       "      <th>Annual Income</th>\n",
       "      <th>Product Category</th>\n",
       "      <th>Units Sold</th>\n",
       "      <th>Revenue</th>\n",
       "    </tr>\n",
       "  </thead>\n",
       "  <tbody>\n",
       "    <tr>\n",
       "      <td>1</td>\n",
       "      <td>2</td>\n",
       "      <td>1/1/2012</td>\n",
       "      <td>6510</td>\n",
       "      <td>Female</td>\n",
       "      <td>$50K - $70K</td>\n",
       "      <td>NaN</td>\n",
       "      <td>5.0</td>\n",
       "      <td>$7.23</td>\n",
       "    </tr>\n",
       "    <tr>\n",
       "      <td>3</td>\n",
       "      <td>4</td>\n",
       "      <td>1/7/2012</td>\n",
       "      <td>2061</td>\n",
       "      <td>Male</td>\n",
       "      <td>$10K - $30K</td>\n",
       "      <td>NaN</td>\n",
       "      <td>5.0</td>\n",
       "      <td>$11.05</td>\n",
       "    </tr>\n",
       "    <tr>\n",
       "      <td>4</td>\n",
       "      <td>5</td>\n",
       "      <td>1/9/2012</td>\n",
       "      <td>2198</td>\n",
       "      <td>Female</td>\n",
       "      <td>$50K - $70K</td>\n",
       "      <td>NaN</td>\n",
       "      <td>3.0</td>\n",
       "      <td>$17.28</td>\n",
       "    </tr>\n",
       "    <tr>\n",
       "      <td>5</td>\n",
       "      <td>6</td>\n",
       "      <td>1/13/2012</td>\n",
       "      <td>1429</td>\n",
       "      <td>Female</td>\n",
       "      <td>$30K - $50K</td>\n",
       "      <td>NaN</td>\n",
       "      <td>2.0</td>\n",
       "      <td>$12.70</td>\n",
       "    </tr>\n",
       "    <tr>\n",
       "      <td>6</td>\n",
       "      <td>7</td>\n",
       "      <td>1/14/2012</td>\n",
       "      <td>1254</td>\n",
       "      <td>Female</td>\n",
       "      <td>$90K - $110K</td>\n",
       "      <td>NaN</td>\n",
       "      <td>4.0</td>\n",
       "      <td>$24.11</td>\n",
       "    </tr>\n",
       "  </tbody>\n",
       "</table>\n",
       "</div>"
      ],
      "text/plain": [
       "   Transaction Purchase Date  Customer ID  Gender Annual Income  \\\n",
       "1            2      1/1/2012         6510  Female   $50K - $70K   \n",
       "3            4      1/7/2012         2061    Male   $10K - $30K   \n",
       "4            5      1/9/2012         2198  Female   $50K - $70K   \n",
       "5            6     1/13/2012         1429  Female   $30K - $50K   \n",
       "6            7     1/14/2012         1254  Female  $90K - $110K   \n",
       "\n",
       "  Product Category  Units Sold Revenue  \n",
       "1              NaN         5.0   $7.23  \n",
       "3              NaN         5.0  $11.05  \n",
       "4              NaN         3.0  $17.28  \n",
       "5              NaN         2.0  $12.70  \n",
       "6              NaN         4.0  $24.11  "
      ]
     },
     "execution_count": 15,
     "metadata": {},
     "output_type": "execute_result"
    }
   ],
   "source": [
    "# from decimal import Decimal\n",
    "# df1 = Decimal(df.strip('$'))\n",
    "# df1.head()\n",
    "df.Revenue.apply(lambda x:x.strip('$'))\n",
    "# df.Revenue.apply(lambda x:x.replace('$',''))\n",
    "df.head()"
   ]
  },
  {
   "cell_type": "code",
   "execution_count": 10,
   "metadata": {},
   "outputs": [
    {
     "ename": "TypeError",
     "evalue": "no numeric data to plot",
     "output_type": "error",
     "traceback": [
      "\u001b[1;31m---------------------------------------------------------------------------\u001b[0m",
      "\u001b[1;31mTypeError\u001b[0m                                 Traceback (most recent call last)",
      "\u001b[1;32m<ipython-input-10-2d989a21d449>\u001b[0m in \u001b[0;36m<module>\u001b[1;34m\u001b[0m\n\u001b[0;32m      1\u001b[0m \u001b[1;31m# df1 = pd.DataFrame(data = data)\u001b[0m\u001b[1;33m\u001b[0m\u001b[1;33m\u001b[0m\u001b[1;33m\u001b[0m\u001b[0m\n\u001b[0;32m      2\u001b[0m \u001b[1;31m# df.columns = ['Revenue']\u001b[0m\u001b[1;33m\u001b[0m\u001b[1;33m\u001b[0m\u001b[1;33m\u001b[0m\u001b[0m\n\u001b[1;32m----> 3\u001b[1;33m \u001b[0mdf\u001b[0m\u001b[1;33m[\u001b[0m\u001b[1;34m'Revenue'\u001b[0m\u001b[1;33m]\u001b[0m\u001b[1;33m.\u001b[0m\u001b[0mplot\u001b[0m\u001b[1;33m(\u001b[0m\u001b[0mstyle\u001b[0m \u001b[1;33m=\u001b[0m \u001b[1;34m'o'\u001b[0m\u001b[1;33m)\u001b[0m\u001b[1;33m\u001b[0m\u001b[1;33m\u001b[0m\u001b[0m\n\u001b[0m",
      "\u001b[1;32m~\\Anaconda3\\envs\\tf-gpu\\lib\\site-packages\\pandas\\plotting\\_core.py\u001b[0m in \u001b[0;36m__call__\u001b[1;34m(self, *args, **kwargs)\u001b[0m\n\u001b[0;32m    792\u001b[0m                     \u001b[0mdata\u001b[0m\u001b[1;33m.\u001b[0m\u001b[0mcolumns\u001b[0m \u001b[1;33m=\u001b[0m \u001b[0mlabel_name\u001b[0m\u001b[1;33m\u001b[0m\u001b[1;33m\u001b[0m\u001b[0m\n\u001b[0;32m    793\u001b[0m \u001b[1;33m\u001b[0m\u001b[0m\n\u001b[1;32m--> 794\u001b[1;33m         \u001b[1;32mreturn\u001b[0m \u001b[0mplot_backend\u001b[0m\u001b[1;33m.\u001b[0m\u001b[0mplot\u001b[0m\u001b[1;33m(\u001b[0m\u001b[0mdata\u001b[0m\u001b[1;33m,\u001b[0m \u001b[0mkind\u001b[0m\u001b[1;33m=\u001b[0m\u001b[0mkind\u001b[0m\u001b[1;33m,\u001b[0m \u001b[1;33m**\u001b[0m\u001b[0mkwargs\u001b[0m\u001b[1;33m)\u001b[0m\u001b[1;33m\u001b[0m\u001b[1;33m\u001b[0m\u001b[0m\n\u001b[0m\u001b[0;32m    795\u001b[0m \u001b[1;33m\u001b[0m\u001b[0m\n\u001b[0;32m    796\u001b[0m     \u001b[1;32mdef\u001b[0m \u001b[0mline\u001b[0m\u001b[1;33m(\u001b[0m\u001b[0mself\u001b[0m\u001b[1;33m,\u001b[0m \u001b[0mx\u001b[0m\u001b[1;33m=\u001b[0m\u001b[1;32mNone\u001b[0m\u001b[1;33m,\u001b[0m \u001b[0my\u001b[0m\u001b[1;33m=\u001b[0m\u001b[1;32mNone\u001b[0m\u001b[1;33m,\u001b[0m \u001b[1;33m**\u001b[0m\u001b[0mkwargs\u001b[0m\u001b[1;33m)\u001b[0m\u001b[1;33m:\u001b[0m\u001b[1;33m\u001b[0m\u001b[1;33m\u001b[0m\u001b[0m\n",
      "\u001b[1;32m~\\Anaconda3\\envs\\tf-gpu\\lib\\site-packages\\pandas\\plotting\\_matplotlib\\__init__.py\u001b[0m in \u001b[0;36mplot\u001b[1;34m(data, kind, **kwargs)\u001b[0m\n\u001b[0;32m     60\u001b[0m             \u001b[0mkwargs\u001b[0m\u001b[1;33m[\u001b[0m\u001b[1;34m\"ax\"\u001b[0m\u001b[1;33m]\u001b[0m \u001b[1;33m=\u001b[0m \u001b[0mgetattr\u001b[0m\u001b[1;33m(\u001b[0m\u001b[0max\u001b[0m\u001b[1;33m,\u001b[0m \u001b[1;34m\"left_ax\"\u001b[0m\u001b[1;33m,\u001b[0m \u001b[0max\u001b[0m\u001b[1;33m)\u001b[0m\u001b[1;33m\u001b[0m\u001b[1;33m\u001b[0m\u001b[0m\n\u001b[0;32m     61\u001b[0m     \u001b[0mplot_obj\u001b[0m \u001b[1;33m=\u001b[0m \u001b[0mPLOT_CLASSES\u001b[0m\u001b[1;33m[\u001b[0m\u001b[0mkind\u001b[0m\u001b[1;33m]\u001b[0m\u001b[1;33m(\u001b[0m\u001b[0mdata\u001b[0m\u001b[1;33m,\u001b[0m \u001b[1;33m**\u001b[0m\u001b[0mkwargs\u001b[0m\u001b[1;33m)\u001b[0m\u001b[1;33m\u001b[0m\u001b[1;33m\u001b[0m\u001b[0m\n\u001b[1;32m---> 62\u001b[1;33m     \u001b[0mplot_obj\u001b[0m\u001b[1;33m.\u001b[0m\u001b[0mgenerate\u001b[0m\u001b[1;33m(\u001b[0m\u001b[1;33m)\u001b[0m\u001b[1;33m\u001b[0m\u001b[1;33m\u001b[0m\u001b[0m\n\u001b[0m\u001b[0;32m     63\u001b[0m     \u001b[0mplot_obj\u001b[0m\u001b[1;33m.\u001b[0m\u001b[0mdraw\u001b[0m\u001b[1;33m(\u001b[0m\u001b[1;33m)\u001b[0m\u001b[1;33m\u001b[0m\u001b[1;33m\u001b[0m\u001b[0m\n\u001b[0;32m     64\u001b[0m     \u001b[1;32mreturn\u001b[0m \u001b[0mplot_obj\u001b[0m\u001b[1;33m.\u001b[0m\u001b[0mresult\u001b[0m\u001b[1;33m\u001b[0m\u001b[1;33m\u001b[0m\u001b[0m\n",
      "\u001b[1;32m~\\Anaconda3\\envs\\tf-gpu\\lib\\site-packages\\pandas\\plotting\\_matplotlib\\core.py\u001b[0m in \u001b[0;36mgenerate\u001b[1;34m(self)\u001b[0m\n\u001b[0;32m    277\u001b[0m     \u001b[1;32mdef\u001b[0m \u001b[0mgenerate\u001b[0m\u001b[1;33m(\u001b[0m\u001b[0mself\u001b[0m\u001b[1;33m)\u001b[0m\u001b[1;33m:\u001b[0m\u001b[1;33m\u001b[0m\u001b[1;33m\u001b[0m\u001b[0m\n\u001b[0;32m    278\u001b[0m         \u001b[0mself\u001b[0m\u001b[1;33m.\u001b[0m\u001b[0m_args_adjust\u001b[0m\u001b[1;33m(\u001b[0m\u001b[1;33m)\u001b[0m\u001b[1;33m\u001b[0m\u001b[1;33m\u001b[0m\u001b[0m\n\u001b[1;32m--> 279\u001b[1;33m         \u001b[0mself\u001b[0m\u001b[1;33m.\u001b[0m\u001b[0m_compute_plot_data\u001b[0m\u001b[1;33m(\u001b[0m\u001b[1;33m)\u001b[0m\u001b[1;33m\u001b[0m\u001b[1;33m\u001b[0m\u001b[0m\n\u001b[0m\u001b[0;32m    280\u001b[0m         \u001b[0mself\u001b[0m\u001b[1;33m.\u001b[0m\u001b[0m_setup_subplots\u001b[0m\u001b[1;33m(\u001b[0m\u001b[1;33m)\u001b[0m\u001b[1;33m\u001b[0m\u001b[1;33m\u001b[0m\u001b[0m\n\u001b[0;32m    281\u001b[0m         \u001b[0mself\u001b[0m\u001b[1;33m.\u001b[0m\u001b[0m_make_plot\u001b[0m\u001b[1;33m(\u001b[0m\u001b[1;33m)\u001b[0m\u001b[1;33m\u001b[0m\u001b[1;33m\u001b[0m\u001b[0m\n",
      "\u001b[1;32m~\\Anaconda3\\envs\\tf-gpu\\lib\\site-packages\\pandas\\plotting\\_matplotlib\\core.py\u001b[0m in \u001b[0;36m_compute_plot_data\u001b[1;34m(self)\u001b[0m\n\u001b[0;32m    412\u001b[0m         \u001b[1;31m# no non-numeric frames or series allowed\u001b[0m\u001b[1;33m\u001b[0m\u001b[1;33m\u001b[0m\u001b[1;33m\u001b[0m\u001b[0m\n\u001b[0;32m    413\u001b[0m         \u001b[1;32mif\u001b[0m \u001b[0mis_empty\u001b[0m\u001b[1;33m:\u001b[0m\u001b[1;33m\u001b[0m\u001b[1;33m\u001b[0m\u001b[0m\n\u001b[1;32m--> 414\u001b[1;33m             \u001b[1;32mraise\u001b[0m \u001b[0mTypeError\u001b[0m\u001b[1;33m(\u001b[0m\u001b[1;34m\"no numeric data to plot\"\u001b[0m\u001b[1;33m)\u001b[0m\u001b[1;33m\u001b[0m\u001b[1;33m\u001b[0m\u001b[0m\n\u001b[0m\u001b[0;32m    415\u001b[0m \u001b[1;33m\u001b[0m\u001b[0m\n\u001b[0;32m    416\u001b[0m         \u001b[1;31m# GH25587: cast ExtensionArray of pandas (IntegerArray, etc.) to\u001b[0m\u001b[1;33m\u001b[0m\u001b[1;33m\u001b[0m\u001b[1;33m\u001b[0m\u001b[0m\n",
      "\u001b[1;31mTypeError\u001b[0m: no numeric data to plot"
     ]
    }
   ],
   "source": [
    "# df1 = pd.DataFrame(data = data)\n",
    "# df.columns = ['Revenue']\n",
    "df['Revenue'].plot(style = 'o')"
   ]
  }
 ],
 "metadata": {
  "kernelspec": {
   "display_name": "Python 3",
   "language": "python",
   "name": "python3"
  },
  "language_info": {
   "codemirror_mode": {
    "name": "ipython",
    "version": 3
   },
   "file_extension": ".py",
   "mimetype": "text/x-python",
   "name": "python",
   "nbconvert_exporter": "python",
   "pygments_lexer": "ipython3",
   "version": "3.7.4"
  }
 },
 "nbformat": 4,
 "nbformat_minor": 2
}
